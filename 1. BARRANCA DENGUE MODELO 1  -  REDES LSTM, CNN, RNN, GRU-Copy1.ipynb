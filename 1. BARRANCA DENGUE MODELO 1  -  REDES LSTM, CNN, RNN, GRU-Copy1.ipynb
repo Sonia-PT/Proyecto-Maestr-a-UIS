{
 "cells": [
  {
   "cell_type": "markdown",
   "id": "0593171e",
   "metadata": {},
   "source": [
    "# MODELOS DE REDES PARA DENGUE BARRANCABERMEJA"
   ]
  },
  {
   "cell_type": "markdown",
   "id": "e2e503c8",
   "metadata": {},
   "source": [
    "### Cargue de librerias requeridas"
   ]
  },
  {
   "cell_type": "code",
   "execution_count": 1,
   "id": "8229fdf4",
   "metadata": {},
   "outputs": [],
   "source": [
    "import pandas as pd\n",
    "import numpy as np\n",
    "from numpy import concatenate\n",
    "from pandas import concat\n",
    "from pandas import read_csv\n",
    "from pandas import DataFrame\n",
    "import tensorflow as tf\n",
    "from tensorflow import keras\n",
    "import os\n",
    "import datetime\n",
    "import IPython\n",
    "import IPython.display\n",
    "import plotly.express as px # to plot the time series plot\n",
    "from sklearn import metrics # for the evaluation\n",
    "from sklearn.preprocessing import MinMaxScaler\n",
    "from sklearn.impute import KNNImputer\n",
    "from sklearn.model_selection import train_test_split\n",
    "from sklearn.metrics import mean_absolute_error, mean_squared_error, r2_score\n",
    "from sklearn.metrics import explained_variance_score, mean_absolute_percentage_error\n",
    "from tensorflow.keras.models import Sequential\n",
    "from tensorflow.keras.layers import Activation,Flatten, LSTM, Dense, Dropout, TimeDistributed, Conv1D, MaxPooling1D\n",
    "from tensorflow.keras.layers import Bidirectional, Input, Reshape, RepeatVector, Concatenate\n",
    "from tensorflow.keras.callbacks import EarlyStopping, ReduceLROnPlateau, ModelCheckpoint\n",
    "from tensorflow.keras.models import Model\n",
    "from tensorflow.keras.utils import plot_model\n",
    "import matplotlib.pyplot as plt\n",
    "import matplotlib.patches as mpatches\n",
    "import matplotlib as mpl\n",
    "%matplotlib inline\n",
    "from scipy.stats import randint as sp_randint\n",
    "np.random.seed(123) # for reproducibility\n",
    "import warnings\n",
    "warnings.filterwarnings('ignore')"
   ]
  },
  {
   "cell_type": "markdown",
   "id": "acb1ab6c",
   "metadata": {},
   "source": [
    "### Cargar la base de datos"
   ]
  },
  {
   "cell_type": "code",
   "execution_count": 2,
   "id": "d4e8bb93",
   "metadata": {},
   "outputs": [
    {
     "data": {
      "text/plain": [
       "Index(['Casos_Dengue', 'Temp_Seca_Min_Dia_Prom_3', 'Temp_Seca_Min_Dia_Prom_6',\n",
       "       'Hum_Rel_Min_6'],\n",
       "      dtype='object')"
      ]
     },
     "execution_count": 2,
     "metadata": {},
     "output_type": "execute_result"
    }
   ],
   "source": [
    "datos = read_csv('Barrancabermeja_Lags.csv', encoding='latin-1', sep=\";\")\n",
    "\n",
    "# Se eliminan las columnas de las variables que No se van a utilizar\n",
    "datos = datos.drop(['Municipio', 'Año', 'Semana_Epi',\n",
    "       'Temp_Seca_Max_Dia_Prom', 'Temp_Seca_Max_Dia_Prom_1',\n",
    "       'Temp_Seca_Max_Dia_Prom_2', 'Temp_Seca_Max_Dia_Prom_3',\n",
    "       'Temp_Seca_Max_Dia_Prom_4', 'Temp_Seca_Max_Dia_Prom_5',\n",
    "       'Temp_Seca_Max_Dia_Prom_6', 'Temp_Seca_Max_Sem', 'Temp_Seca_Max_Sem_1',\n",
    "       'Temp_Seca_Max_Sem_2', 'Temp_Seca_Max_Sem_3', 'Temp_Seca_Max_Sem_4',\n",
    "       'Temp_Seca_Max_Sem_5', 'Temp_Seca_Max_Sem_6', 'Temp_Seca_Min_Dia_Prom',\n",
    "       'Temp_Seca_Min_Dia_Prom_1', 'Temp_Seca_Min_Dia_Prom_2', 'Temp_Seca_Min_Dia_Prom_4',\n",
    "       'Temp_Seca_Min_Dia_Prom_5', 'Temp_Seca_Min_Sem', 'Temp_Seca_Min_Sem_1', 'Temp_Seca_Min_Sem_2',\n",
    "       'Temp_Seca_Min_Sem_3', 'Temp_Seca_Min_Sem_4', 'Temp_Seca_Min_Sem_5',\n",
    "       'Temp_Seca_Min_Sem_6', 'Prom_Dia_Preci', 'Prom_Dia_Preci_1',\n",
    "       'Prom_Dia_Preci_2', 'Prom_Dia_Preci_3', 'Prom_Dia_Preci_4',\n",
    "       'Prom_Dia_Preci_5', 'Prom_Dia_Preci_6', 'Total_Preci_Sem',\n",
    "       'Total_Preci_Sem_1', 'Total_Preci_Sem_2', 'Total_Preci_Sem_3',\n",
    "       'Total_Preci_Sem_4', 'Total_Preci_Sem_5', 'Total_Preci_Sem_6',\n",
    "       'Temp_Max_Dia_Prom', 'Temp_Max_Dia_Prom_1', 'Temp_Max_Dia_Prom_2',\n",
    "       'Temp_Max_Dia_Prom_3', 'Temp_Max_Dia_Prom_4', 'Temp_Max_Dia_Prom_5',\n",
    "       'Temp_Max_Dia_Prom_6', 'Temp_Max_Sem', 'Temp_Max_Sem_1',\n",
    "       'Temp_Max_Sem_2', 'Temp_Max_Sem_3', 'Temp_Max_Sem_4', 'Temp_Max_Sem_5',\n",
    "       'Temp_Max_Sem_6', 'Temp_Min_Dia_Prom', 'Temp_Min_Dia_Prom_1',\n",
    "       'Temp_Min_Dia_Prom_2', 'Temp_Min_Dia_Prom_3', 'Temp_Min_Dia_Prom_4',\n",
    "       'Temp_Min_Dia_Prom_5', 'Temp_Min_Dia_Prom_6', 'Temp_Min_Sem',\n",
    "       'Temp_Min_Sem_1', 'Temp_Min_Sem_2', 'Temp_Min_Sem_3', 'Temp_Min_Sem_4',\n",
    "       'Temp_Min_Sem_5', 'Temp_Min_Sem_6', 'Hum_Rel_Max', 'Hum_Rel_Max_1',\n",
    "       'Hum_Rel_Max_2', 'Hum_Rel_Max_3', 'Hum_Rel_Max_4', 'Hum_Rel_Max_5',\n",
    "       'Hum_Rel_Max_6', 'Hum_Rel_Min', 'Hum_Rel_Min_1', 'Hum_Rel_Min_2',\n",
    "       'Hum_Rel_Min_3', 'Hum_Rel_Min_4', 'Hum_Rel_Min_5'],axis=1)\n",
    "datos.columns"
   ]
  },
  {
   "cell_type": "code",
   "execution_count": 3,
   "id": "0d1400b0",
   "metadata": {},
   "outputs": [
    {
     "data": {
      "text/plain": [
       "Casos_Dengue                 0\n",
       "Temp_Seca_Min_Dia_Prom_3     0\n",
       "Temp_Seca_Min_Dia_Prom_6     0\n",
       "Hum_Rel_Min_6               28\n",
       "dtype: int64"
      ]
     },
     "execution_count": 3,
     "metadata": {},
     "output_type": "execute_result"
    }
   ],
   "source": [
    "#Se verifican datos nulos o faltantes\n",
    "datos.isnull().sum()"
   ]
  },
  {
   "cell_type": "code",
   "execution_count": 4,
   "id": "e79415eb",
   "metadata": {},
   "outputs": [
    {
     "data": {
      "text/plain": [
       "(624, 4)"
      ]
     },
     "execution_count": 4,
     "metadata": {},
     "output_type": "execute_result"
    }
   ],
   "source": [
    "#Se realiza la imputación de los datos\n",
    "knnImputer = KNNImputer (missing_values=np.nan, n_neighbors=2, \n",
    "                         weights=\"uniform\", metric=\"nan_euclidean\")\n",
    "# Ajustamos el modelo e imputamos los missing values\n",
    "knnImputer.fit(datos[['Hum_Rel_Min_6']])\n",
    "datos['Hum_Rel_Min_6'] = knnImputer.transform(datos[['Hum_Rel_Min_6']]).ravel()\n",
    "\n",
    "datos.shape"
   ]
  },
  {
   "cell_type": "markdown",
   "id": "03473aac",
   "metadata": {},
   "source": [
    "### División de los datos en set de entrenamiento y prueba"
   ]
  },
  {
   "cell_type": "code",
   "execution_count": 5,
   "id": "93644b74",
   "metadata": {},
   "outputs": [
    {
     "name": "stdout",
     "output_type": "stream",
     "text": [
      "436 188\n"
     ]
    }
   ],
   "source": [
    "train_size = int(len(datos) * 0.7)\n",
    "test_size = len(datos) - train_size\n",
    "train, test = datos.iloc[0:train_size], datos.iloc[train_size:len(datos)]\n",
    "print(len(train), len(test))"
   ]
  },
  {
   "cell_type": "code",
   "execution_count": 6,
   "id": "0b945262",
   "metadata": {},
   "outputs": [],
   "source": [
    "f_columns = ['Temp_Seca_Min_Dia_Prom_3', 'Temp_Seca_Min_Dia_Prom_6', 'Hum_Rel_Min_6']\n",
    "f_transformer = MinMaxScaler(feature_range=(0, 1))\n",
    "f_transformer = f_transformer.fit(train[f_columns].to_numpy())\n",
    "train.loc[:, f_columns] = f_transformer.transform(train[f_columns].to_numpy())\n",
    "test.loc[:, f_columns] = f_transformer.transform(test[f_columns].to_numpy())"
   ]
  },
  {
   "cell_type": "code",
   "execution_count": 7,
   "id": "fa44ef3c",
   "metadata": {},
   "outputs": [],
   "source": [
    "dengue_transformer = MinMaxScaler(feature_range=(0, 1))\n",
    "dengue_transformer = dengue_transformer.fit(train[['Casos_Dengue']])\n",
    "train['Casos_Dengue'] = dengue_transformer.transform(train[['Casos_Dengue']])\n",
    "test['Casos_Dengue'] = dengue_transformer.transform(test[['Casos_Dengue']])"
   ]
  },
  {
   "cell_type": "code",
   "execution_count": 8,
   "id": "c70b8016",
   "metadata": {},
   "outputs": [],
   "source": [
    "def create_dataset(X, y, time_steps=1):\n",
    "    Xs, ys = [], []\n",
    "    for i in range(len(X) - time_steps):\n",
    "        v = X.iloc[i:(i + time_steps)].values\n",
    "        Xs.append(v)\n",
    "        ys.append(y.iloc[i + time_steps])\n",
    "    return np.array(Xs), np.array(ys)"
   ]
  },
  {
   "cell_type": "markdown",
   "id": "fedb4651",
   "metadata": {},
   "source": [
    "# MODELO LSTM"
   ]
  },
  {
   "cell_type": "code",
   "execution_count": 9,
   "id": "a9bce820",
   "metadata": {},
   "outputs": [
    {
     "name": "stdout",
     "output_type": "stream",
     "text": [
      "(426, 10, 4) (426,) (178, 10, 4) (178,)\n"
     ]
    }
   ],
   "source": [
    "# Creación de X_train, y_train, X_test y y_test Para el modelo LSTM\n",
    "\n",
    "time_steps = 10\n",
    "\n",
    "# remodelar a [muestras, pasos_de_tiempo, n_características]\n",
    "X_train_LSTM, y_train_LSTM = create_dataset(train, train.Casos_Dengue, time_steps)\n",
    "X_test_LSTM, y_test_LSTM = create_dataset(test, test.Casos_Dengue, time_steps)\n",
    "print(X_train_LSTM.shape, y_train_LSTM.shape, X_test_LSTM.shape, y_test_LSTM.shape )"
   ]
  },
  {
   "cell_type": "markdown",
   "id": "39eaa265",
   "metadata": {},
   "source": [
    "### Construcción, Compilación y entrenamiento del modelo LSTM"
   ]
  },
  {
   "cell_type": "code",
   "execution_count": 11,
   "id": "c328a31b",
   "metadata": {},
   "outputs": [
    {
     "name": "stdout",
     "output_type": "stream",
     "text": [
      "Epoch 1/100\n",
      "14/14 - 9s - loss: 0.0637 - mse: 0.0637 - val_loss: 0.0155 - val_mse: 0.0155 - 9s/epoch - 648ms/step\n",
      "Epoch 2/100\n",
      "14/14 - 1s - loss: 0.0302 - mse: 0.0302 - val_loss: 0.0054 - val_mse: 0.0054 - 506ms/epoch - 36ms/step\n",
      "Epoch 3/100\n",
      "14/14 - 0s - loss: 0.0270 - mse: 0.0270 - val_loss: 0.0074 - val_mse: 0.0074 - 442ms/epoch - 32ms/step\n",
      "Epoch 4/100\n",
      "14/14 - 0s - loss: 0.0243 - mse: 0.0243 - val_loss: 0.0055 - val_mse: 0.0055 - 452ms/epoch - 32ms/step\n",
      "Epoch 5/100\n",
      "14/14 - 0s - loss: 0.0245 - mse: 0.0245 - val_loss: 0.0081 - val_mse: 0.0081 - 429ms/epoch - 31ms/step\n",
      "Epoch 6/100\n",
      "14/14 - 0s - loss: 0.0207 - mse: 0.0207 - val_loss: 0.0058 - val_mse: 0.0058 - 431ms/epoch - 31ms/step\n",
      "Epoch 7/100\n",
      "14/14 - 0s - loss: 0.0202 - mse: 0.0202 - val_loss: 0.0059 - val_mse: 0.0059 - 468ms/epoch - 33ms/step\n"
     ]
    }
   ],
   "source": [
    "Barr_LSTM_1 = keras.Sequential()\n",
    "    \n",
    "# CAPA DE ENTRADA\n",
    "Barr_LSTM_1.add(keras.layers.InputLayer(input_shape=(X_train_LSTM.shape[1], X_train_LSTM.shape[2])))\n",
    "    \n",
    "    \n",
    "#CAPAS INTERMEDIAS\n",
    "\n",
    "Barr_LSTM_1.add(keras.layers.LSTM(units=100,\n",
    "                            activation=\"tanh\",\n",
    "                            return_sequences = True,\n",
    "                            dropout= 0.5,\n",
    "                            kernel_initializer=\"uniform\"))\n",
    "\n",
    "Barr_LSTM_1.add(keras.layers.LSTM(units=100,\n",
    "                            activation=\"tanh\",\n",
    "                            return_sequences = True,\n",
    "                            dropout= 0.5,\n",
    "                            kernel_initializer=\"uniform\"))\n",
    "\n",
    "Barr_LSTM_1.add(keras.layers.LSTM(units=100,\n",
    "                            activation=\"tanh\",\n",
    "                            #return_sequences = True,\n",
    "                            dropout= 0.5,\n",
    "                            kernel_initializer=\"uniform\"))\n",
    "        \n",
    "#CAPA DE SALIDA\n",
    "Barr_LSTM_1.add(keras.layers.Dense(1, activation=\"linear\"))\n",
    "    \n",
    "\n",
    "#COMPILACIÓN DEL MODELO\n",
    "Barr_LSTM_1.compile(optimizer=\"adam\", loss = 'mse', metrics = ['mse'])\n",
    "\n",
    "\n",
    "#Se utiliza la devolución de llamada ModelCheckpoint para guardar puntos de control con regularidad \n",
    "#y la EarlyStopping para interrumpir el entrenamiento cuando la pérdida de validación ya no mejore.\n",
    "model_filepath = 'Barr_LSTM1.h5'\n",
    "checkpoint_LSTM = ModelCheckpoint(model_filepath, monitor = 'val_loss', verbose=0, save_best_only = True, mode='min')\n",
    "monitor_LSTM = EarlyStopping(monitor='val_loss', min_delta=1e-3, patience=5, verbose=0, mode='auto')\n",
    "\n",
    "\n",
    "#ENTRENAMIENTO DEL MODELO\n",
    "history_LSTM = Barr_LSTM_1.fit(X_train_LSTM,y_train_LSTM, validation_data=(X_test_LSTM,y_test_LSTM), \n",
    "                                     verbose=2, epochs=100, callbacks=[monitor_LSTM, checkpoint_LSTM])\n",
    "Barr_LSTM_1.load_weights(model_filepath)"
   ]
  },
  {
   "cell_type": "code",
   "execution_count": 46,
   "id": "19d65817",
   "metadata": {},
   "outputs": [
    {
     "name": "stdout",
     "output_type": "stream",
     "text": [
      "6/6 [==============================] - 0s 10ms/step\n"
     ]
    }
   ],
   "source": [
    "y_pred_LSTM = Barr_LSTM_1.predict(X_test_LSTM)\n",
    "\n",
    "\n",
    "y_train_inv_LSTM = dengue_transformer.inverse_transform(y_train_LSTM.reshape(1, -1))\n",
    "\n",
    "\n",
    "y_test_inv_LSTM = dengue_transformer.inverse_transform(y_test_LSTM.reshape(1, -1))\n",
    "\n",
    "\n",
    "y_pred_inv_LSTM = dengue_transformer.inverse_transform(y_pred_LSTM.reshape(1, -1))\n"
   ]
  },
  {
   "cell_type": "code",
   "execution_count": 47,
   "id": "3a69ccf4",
   "metadata": {},
   "outputs": [
    {
     "data": {
      "text/plain": [
       "(1, 178)"
      ]
     },
     "execution_count": 47,
     "metadata": {},
     "output_type": "execute_result"
    }
   ],
   "source": [
    "y_pred_inv_LSTM.shape"
   ]
  },
  {
   "cell_type": "code",
   "execution_count": 49,
   "id": "bd856ff1",
   "metadata": {},
   "outputs": [
    {
     "data": {
      "text/plain": [
       "(1, 178)"
      ]
     },
     "execution_count": 49,
     "metadata": {},
     "output_type": "execute_result"
    }
   ],
   "source": [
    "y_test_inv_LSTM.shape"
   ]
  },
  {
   "cell_type": "code",
   "execution_count": 18,
   "id": "51b207c9",
   "metadata": {},
   "outputs": [
    {
     "name": "stdout",
     "output_type": "stream",
     "text": [
      "6/6 [==============================] - 1s 13ms/step - loss: 0.0054 - mse: 0.0054\n",
      "Test accuracy 0.005399712361395359\n",
      "Test loss 0.005399712361395359\n"
     ]
    }
   ],
   "source": [
    "#Evaluar modelo sobre datos de prueba\n",
    "model = keras.models.load_model(\"Barr_LSTM1.h5\")\n",
    "\n",
    "test_loss, test_acc = model.evaluate(X_test_LSTM, y_test_LSTM)\n",
    "\n",
    "print(\"Test accuracy\", test_acc)\n",
    "print(\"Test loss\", test_loss)"
   ]
  },
  {
   "cell_type": "code",
   "execution_count": 50,
   "id": "7c3675bc",
   "metadata": {},
   "outputs": [],
   "source": [
    "from sklearn.metrics import mean_absolute_error\n",
    "def evaluate_forecasts(test, forecasts, n_seq):\n",
    "\tfor i in range(n_seq):\n",
    "\t\tactual = [row[i] for row in test]\n",
    "\t\tpredicted = [forecast[i] for forecast in forecasts]\n",
    "\t\trmse = mean_absolute_error(actual, predicted)\n",
    "\t\tprint('t+%d MSE: %f' % ((i+1), rmse))"
   ]
  },
  {
   "cell_type": "code",
   "execution_count": 57,
   "id": "b9538fd6",
   "metadata": {},
   "outputs": [
    {
     "name": "stdout",
     "output_type": "stream",
     "text": [
      "test\n",
      "t+1 MSE: 2.799294\n",
      "t+2 MSE: 3.886407\n",
      "t+3 MSE: 0.017939\n",
      "t+4 MSE: 0.844965\n",
      "t+5 MSE: 0.955223\n"
     ]
    }
   ],
   "source": [
    "print(\"test\")\n",
    "evaluate_forecasts(y_test_inv_LSTM, y_pred_inv_LSTM, 5)"
   ]
  },
  {
   "cell_type": "code",
   "execution_count": 53,
   "id": "f2b29e5a",
   "metadata": {},
   "outputs": [
    {
     "name": "stdout",
     "output_type": "stream",
     "text": [
      "RMSE Modelo LSTM Dengue Barranca : 4.408964178873187\n"
     ]
    }
   ],
   "source": [
    "score_LSTM = np.sqrt(metrics.mean_squared_error(y_test_inv_LSTM.flatten(), y_pred_inv_LSTM.flatten()))\n",
    "\n",
    "print(\"RMSE Modelo LSTM Dengue Barranca : {}\".format(score_LSTM))\n"
   ]
  },
  {
   "cell_type": "code",
   "execution_count": 56,
   "id": "da8a7738",
   "metadata": {},
   "outputs": [
    {
     "name": "stdout",
     "output_type": "stream",
     "text": [
      "   Actuales  Predicciones  diferencia\n",
      "0       7.0      4.200706   -2.799294\n",
      "1       8.0      4.113593   -3.886407\n",
      "2       4.0      4.017939    0.017939\n",
      "3       5.0      4.155035   -0.844965\n",
      "4       5.0      4.044777   -0.955223\n",
      "     Actuales  Predicciones  diferencia\n",
      "173      16.0     13.803697   -2.196303\n",
      "174      19.0     14.013272   -4.986728\n",
      "175      14.0     14.179347    0.179347\n",
      "176       7.0     14.428615    7.428615\n",
      "177       8.0     14.038336    6.038336\n"
     ]
    }
   ],
   "source": [
    "#MODELO LSTM\n",
    "resultados_LSTM = pd.DataFrame({ 'Actuales':y_test_inv_LSTM.flatten(), 'Predicciones': y_pred_inv_LSTM.flatten()})\n",
    "resultados_LSTM['diferencia'] = resultados_LSTM['Predicciones'] - resultados_LSTM['Actuales']\n",
    "print(resultados_LSTM.head(5))\n",
    "print(resultados_LSTM.tail(5))"
   ]
  },
  {
   "cell_type": "markdown",
   "id": "894a90d5",
   "metadata": {},
   "source": [
    "# MODELO CNN"
   ]
  },
  {
   "cell_type": "code",
   "execution_count": null,
   "id": "6af63f23",
   "metadata": {},
   "outputs": [],
   "source": [
    "# Creación de X_train, y_train, X_test y y_test Para el modelo CNN\n",
    "\n",
    "time_steps = 10\n",
    "\n",
    "# remodelar a [muestras, pasos_de_tiempo, n_características]\n",
    "X_train_CNN, y_train_CNN = create_dataset(train, train.Casos_Dengue, time_steps)\n",
    "X_test_CNN, y_test_CNN = create_dataset(test, test.Casos_Dengue, time_steps)\n",
    "print(X_train_CNN.shape, y_train_CNN.shape, X_test_CNN.shape, y_test_CNN.shape )"
   ]
  },
  {
   "cell_type": "markdown",
   "id": "3e32895f",
   "metadata": {},
   "source": [
    "### Construcción, Compilación y entrenamiento del modelo CNN"
   ]
  },
  {
   "cell_type": "code",
   "execution_count": null,
   "id": "ea39c2a2",
   "metadata": {},
   "outputs": [],
   "source": [
    "Barr_CNN_model_1 = keras.Sequential()\n",
    "    \n",
    "# CAPA DE ENTRADA\n",
    "Barr_CNN_model_1.add(keras.layers.InputLayer(input_shape=(X_train_CNN.shape[1], X_train_CNN.shape[2])))\n",
    "    \n",
    "    \n",
    "#CAPAS INTERMEDIAS\n",
    "\n",
    "Barr_CNN_model_1.add(keras.layers.Conv1D(80, kernel_size=2, strides=1, activation='linear', padding='same'))\n",
    "Barr_CNN_model_1.add(keras.layers.MaxPooling1D(pool_size=2, padding='same'))\n",
    "\n",
    "Barr_CNN_model_1.add(keras.layers.Conv1D(80, kernel_size=2, strides=1, activation='linear', padding='same'))\n",
    "Barr_CNN_model_1.add(keras.layers.MaxPooling1D(pool_size=2, padding='same'))\n",
    "\n",
    "Barr_CNN_model_1.add(keras.layers.Conv1D(80, kernel_size=2, strides=1, activation='linear', padding='same'))\n",
    "Barr_CNN_model_1.add(keras.layers.MaxPooling1D(pool_size=2, padding='same'))\n",
    "\n",
    "Barr_CNN_model_1.add(Dropout(0.5))\n",
    "Barr_CNN_model_1.add(Flatten())\n",
    "    \n",
    "Barr_CNN_model_1.add(keras.layers.Dense(units=256, activation='linear'))\n",
    "Barr_CNN_model_1.add(Dropout(0.5)) \n",
    "\n",
    "\n",
    "#CAPA DE SALIDA                 \n",
    "Barr_CNN_model_1.add(Dense(1))\n",
    "\n",
    "\n",
    "#COMPILACIÓN DEL MODELO\n",
    "Barr_CNN_model_1.compile(optimizer='rmsprop', loss = 'mse', metrics = ['mse'])\n",
    "\n",
    "\n",
    "#Se utiliza la devolución de llamada ModelCheckpoint para guardar puntos de control con regularidad \n",
    "#y la EarlyStopping para interrumpir el entrenamiento cuando la pérdida de validación ya no mejore.\n",
    "model_filepath = 'Barr_CNN_model_1.h5'\n",
    "checkpoint_CNN = ModelCheckpoint(model_filepath, monitor = 'val_loss', verbose=0, save_best_only = True, mode='min')\n",
    "monitor_CNN = EarlyStopping(monitor='val_loss', min_delta=1e-3, patience=5, verbose=0, mode='auto')\n",
    "\n",
    "\n",
    "#ENTRENAMIENTO DEL MODELO\n",
    "history_CNN = Barr_CNN_model_1.fit(X_train_CNN,y_train_CNN, validation_data=(X_test_CNN,y_test_CNN), \n",
    "                                     verbose=2, epochs=100, callbacks=[monitor_CNN, checkpoint_CNN])\n",
    "Barr_CNN_model_1.load_weights(model_filepath)"
   ]
  },
  {
   "cell_type": "markdown",
   "id": "6b0ab660",
   "metadata": {},
   "source": [
    "# MODELO RNN"
   ]
  },
  {
   "cell_type": "code",
   "execution_count": null,
   "id": "bcda6271",
   "metadata": {},
   "outputs": [],
   "source": [
    "# Creación de X_train, y_train, X_test y y_test Para el modelo RNN\n",
    "\n",
    "time_steps = 10\n",
    "\n",
    "# remodelar a [muestras, pasos_de_tiempo, n_características]\n",
    "X_train_RNN, y_train_RNN = create_dataset(train, train.Casos_Dengue, time_steps)\n",
    "X_test_RNN, y_test_RNN = create_dataset(test, test.Casos_Dengue, time_steps)\n",
    "print(X_train_RNN.shape, y_train_RNN.shape, X_test_RNN.shape, y_test_RNN.shape )"
   ]
  },
  {
   "cell_type": "markdown",
   "id": "efde8899",
   "metadata": {},
   "source": [
    "### Construcción, Compilación y entrenamiento del modelo RNN"
   ]
  },
  {
   "cell_type": "code",
   "execution_count": null,
   "id": "804e2d75",
   "metadata": {},
   "outputs": [],
   "source": [
    "Barr_RNN_model_1 = keras.Sequential()\n",
    "    \n",
    "# CAPA DE ENTRADA\n",
    "Barr_RNN_model_1.add(keras.layers.InputLayer(input_shape=(X_train_RNN.shape[1], X_train_RNN.shape[2])))\n",
    "    \n",
    "    \n",
    "#CAPAS INTERMEDIAS\n",
    "\n",
    "Barr_RNN_model_1.add(keras.layers.SimpleRNN(units=100,\n",
    "                            activation=\"tanh\",\n",
    "                            return_sequences = True,\n",
    "                            dropout= 0.5,\n",
    "                            kernel_initializer=\"uniform\"))\n",
    "\n",
    "Barr_RNN_model_1.add(keras.layers.SimpleRNN(units=100,\n",
    "                            activation=\"tanh\",\n",
    "                            return_sequences = True,\n",
    "                            dropout= 0.5,\n",
    "                            kernel_initializer=\"uniform\"))\n",
    "\n",
    "Barr_RNN_model_1.add(keras.layers.SimpleRNN(units=100,\n",
    "                            activation=\"tanh\",\n",
    "                            #return_sequences = True,\n",
    "                            dropout= 0.5,\n",
    "                            kernel_initializer=\"uniform\"))\n",
    "        \n",
    "#CAPA DE SALIDA\n",
    "Barr_RNN_model_1.add(keras.layers.Dense(1, activation=\"linear\"))\n",
    "    \n",
    "\n",
    "#COMPILACIÓN DEL MODELO\n",
    "Barr_RNN_model_1.compile(optimizer=\"adam\", loss = 'mse', metrics = ['mse'])\n",
    "\n",
    "\n",
    "#Se utiliza la devolución de llamada ModelCheckpoint para guardar puntos de control con regularidad \n",
    "#y la EarlyStopping para interrumpir el entrenamiento cuando la pérdida de validación ya no mejore.\n",
    "model_filepath = 'Barr_RNN_model_1.h5'\n",
    "checkpoint_RNN = ModelCheckpoint(model_filepath, monitor = 'val_loss', verbose=0, save_best_only = True, mode='min')\n",
    "monitor_RNN = EarlyStopping(monitor='val_loss', min_delta=1e-3, patience=5, verbose=0, mode='auto')\n",
    "\n",
    "\n",
    "#ENTRENAMIENTO DEL MODELO\n",
    "history_RNN = Barr_RNN_model_1.fit(X_train_RNN,y_train_RNN, validation_data=(X_test_RNN,y_test_RNN), \n",
    "                                     verbose=2, epochs=100, callbacks=[monitor_RNN, checkpoint_RNN])\n",
    "Barr_RNN_model_1.load_weights(model_filepath)"
   ]
  },
  {
   "cell_type": "markdown",
   "id": "da22d570",
   "metadata": {},
   "source": [
    "# MODELO GRU"
   ]
  },
  {
   "cell_type": "code",
   "execution_count": null,
   "id": "3216ce13",
   "metadata": {},
   "outputs": [],
   "source": [
    "# Creación de X_train, y_train, X_test y y_test Para el modelo GRU\n",
    "\n",
    "time_steps = 10\n",
    "\n",
    "# remodelar a [muestras, pasos_de_tiempo, n_características]\n",
    "X_train_GRU, y_train_GRU = create_dataset(train, train.Casos_Dengue, time_steps)\n",
    "X_test_GRU, y_test_GRU = create_dataset(test, test.Casos_Dengue, time_steps)\n",
    "print(X_train_GRU.shape, y_train_GRU.shape, X_test_GRU.shape, y_test_GRU.shape )"
   ]
  },
  {
   "cell_type": "markdown",
   "id": "69500432",
   "metadata": {},
   "source": [
    "### Construcción, Compilación y entrenamiento del modelo GRU"
   ]
  },
  {
   "cell_type": "code",
   "execution_count": null,
   "id": "bc1d5dba",
   "metadata": {},
   "outputs": [],
   "source": [
    "Barr_GRU_model_1 = keras.Sequential()\n",
    "    \n",
    "# CAPA DE ENTRADA\n",
    "Barr_GRU_model_1.add(keras.layers.InputLayer(input_shape=(X_train_GRU.shape[1], X_train_GRU.shape[2])))\n",
    "    \n",
    "    \n",
    "#CAPAS INTERMEDIAS\n",
    "\n",
    "Barr_GRU_model_1.add(keras.layers.GRU(units=100,\n",
    "                            activation=\"tanh\",\n",
    "                            return_sequences = True,\n",
    "                            dropout= 0.5,\n",
    "                            kernel_initializer=\"uniform\"))\n",
    "\n",
    "Barr_GRU_model_1.add(keras.layers.GRU(units=100,\n",
    "                            activation=\"tanh\",\n",
    "                            return_sequences = True,\n",
    "                            dropout= 0.5,\n",
    "                            kernel_initializer=\"uniform\"))\n",
    "\n",
    "Barr_GRU_model_1.add(keras.layers.GRU(units=100,\n",
    "                            activation=\"tanh\",\n",
    "                            #return_sequences = True,\n",
    "                            dropout= 0.5,\n",
    "                            kernel_initializer=\"uniform\"))\n",
    "        \n",
    "#CAPA DE SALIDA\n",
    "Barr_GRU_model_1.add(keras.layers.Dense(1, activation=\"linear\"))\n",
    "    \n",
    "\n",
    "#COMPILACIÓN DEL MODELO\n",
    "Barr_GRU_model_1.compile(optimizer=\"adam\", loss = 'mse', metrics = ['mse'])\n",
    "\n",
    "\n",
    "#Se utiliza la devolución de llamada ModelCheckpoint para guardar puntos de control con regularidad \n",
    "#y la EarlyStopping para interrumpir el entrenamiento cuando la pérdida de validación ya no mejore.\n",
    "model_filepath = 'Barr_GRU_model_1.h5'\n",
    "checkpoint_GRU = ModelCheckpoint(model_filepath, monitor = 'val_loss', verbose=0, save_best_only = True, mode='min')\n",
    "monitor_GRU = EarlyStopping(monitor='val_loss', min_delta=1e-3, patience=5, verbose=0, mode='auto')\n",
    "\n",
    "\n",
    "#ENTRENAMIENTO DEL MODELO\n",
    "history_GRU = Barr_GRU_model_1.fit(X_train_GRU,y_train_GRU, validation_data=(X_test_GRU,y_test_GRU), \n",
    "                                     verbose=2, epochs=100, callbacks=[monitor_GRU, checkpoint_GRU])\n",
    "Barr_GRU_model_1.load_weights(model_filepath)"
   ]
  },
  {
   "cell_type": "markdown",
   "id": "1471a854",
   "metadata": {},
   "source": [
    "### Graficas de función de pérdida & RMSE"
   ]
  },
  {
   "cell_type": "code",
   "execution_count": null,
   "id": "f773b017",
   "metadata": {},
   "outputs": [],
   "source": [
    "plt.figure(figsize=(15,10))\n",
    "plt.subplots_adjust(hspace=0.3, wspace=0.3)\n",
    "\n",
    "plt.subplot(2, 2, 1)\n",
    "orange_patch = mpatches.Patch(color='orange', label='Validación')\n",
    "blue_patch = mpatches.Patch(color='blue', label='Entrenamiento')\n",
    "plt.legend(handles=[orange_patch, blue_patch])\n",
    "plt.title('Función de pérdida Modelo_Dengue_1 LSTM - Barrancabermeja')\n",
    "plt.xlabel(\"Epoch\")\n",
    "plt.ylabel(\"Perdida\")\n",
    "plt.grid(True)\n",
    "plt.plot(history_LSTM.history['loss'])\n",
    "plt.plot(history_LSTM.history['val_loss'])\n",
    "\n",
    "plt.subplot(2, 2, 2)\n",
    "orange_patch = mpatches.Patch(color='orange', label='Validación')\n",
    "blue_patch = mpatches.Patch(color='blue', label='Entrenamiento')\n",
    "plt.legend(handles=[orange_patch, blue_patch])\n",
    "plt.title('Función de pérdida Modelo_Dengue_1 CNN - Barrancabermeja')\n",
    "plt.xlabel(\"Epoch\")\n",
    "plt.ylabel(\"Perdida\")\n",
    "plt.grid(True)\n",
    "plt.plot(history_CNN.history['loss'])\n",
    "plt.plot(history_CNN.history['val_loss'])\n",
    "\n",
    "plt.subplot(2, 2, 3)\n",
    "orange_patch = mpatches.Patch(color='orange', label='Validación')\n",
    "blue_patch = mpatches.Patch(color='blue', label='Entrenamiento')\n",
    "plt.legend(handles=[orange_patch, blue_patch])\n",
    "plt.title('Función de pérdida Modelo_Dengue_1 RNN - Barrancabermeja')\n",
    "plt.xlabel(\"Epoch\")\n",
    "plt.ylabel(\"Perdida\")\n",
    "plt.grid(True)\n",
    "plt.plot(history_RNN.history['loss'])\n",
    "plt.plot(history_RNN.history['val_loss'])\n",
    "\n",
    "plt.subplot(2, 2, 4)\n",
    "orange_patch = mpatches.Patch(color='orange', label='Validación')\n",
    "blue_patch = mpatches.Patch(color='blue', label='Entrenamiento')\n",
    "plt.legend(handles=[orange_patch, blue_patch])\n",
    "plt.title('Función de pérdida Modelo_Dengue_1 GRU - Barrancabermeja')\n",
    "plt.xlabel(\"Epoch\")\n",
    "plt.ylabel(\"Perdida\")\n",
    "plt.grid(True)\n",
    "plt.plot(history_GRU.history['loss'])\n",
    "plt.plot(history_GRU.history['val_loss'])\n",
    "\n",
    "plt.show()"
   ]
  },
  {
   "cell_type": "markdown",
   "id": "5d872db5",
   "metadata": {},
   "source": [
    "# Gráficas de dispersión"
   ]
  },
  {
   "cell_type": "code",
   "execution_count": null,
   "id": "a1c584b9",
   "metadata": {},
   "outputs": [],
   "source": [
    "results_LSTM =Barr_LSTM_model_1.predict(X_test_LSTM)\n",
    "results_CNN =Barr_CNN_model_1.predict(X_test_CNN)\n",
    "results_RNN =Barr_RNN_model_1.predict(X_test_RNN)\n",
    "results_GRU =Barr_GRU_model_1.predict(X_test_GRU)\n",
    "\n",
    "plt.figure(figsize=(15,10))\n",
    "plt.subplots_adjust(hspace=0.3, wspace=0.3)\n",
    "\n",
    "plt.subplot(2, 2, 1)\n",
    "green_patch = mpatches.Patch(color='green', label='Real')\n",
    "red_patch = mpatches.Patch(color='red', label='Predicción')\n",
    "plt.legend(handles=[green_patch, red_patch])\n",
    "plt.title('Prueba/Test Dispersión Modelo_Dengue_1 LSTM - Barrancabermeja')\n",
    "plt.xlabel(\"Periodos\")\n",
    "plt.ylabel(\"Casos Dengue\")\n",
    "plt.scatter(range(len(y_test_LSTM)),y_test_LSTM,c='g')\n",
    "plt.scatter(range(len(results_LSTM)),results_LSTM,c='r')\n",
    "\n",
    "plt.subplot(2, 2, 2)\n",
    "green_patch = mpatches.Patch(color='green', label='Real')\n",
    "red_patch = mpatches.Patch(color='red', label='Predicción')\n",
    "plt.legend(handles=[green_patch, red_patch])\n",
    "plt.title('Prueba/Test Dispersión Modelo_Dengue_1 CNN - Barrancabermeja')\n",
    "plt.xlabel(\"Periodos\")\n",
    "plt.ylabel(\"Casos Dengue\")\n",
    "plt.scatter(range(len(y_test_CNN)),y_test_CNN,c='g')\n",
    "plt.scatter(range(len(results_CNN)),results_CNN,c='r')\n",
    "\n",
    "plt.subplot(2, 2, 3)\n",
    "green_patch = mpatches.Patch(color='green', label='Real')\n",
    "red_patch = mpatches.Patch(color='red', label='Predicción')\n",
    "plt.legend(handles=[green_patch, red_patch])\n",
    "plt.title('Prueba/Test Dispersión Modelo_Dengue_1 RNN - Barrancabermeja')\n",
    "plt.xlabel(\"Periodos\")\n",
    "plt.ylabel(\"Casos Dengue\")\n",
    "plt.scatter(range(len(y_test_RNN)),y_test_RNN,c='g')\n",
    "plt.scatter(range(len(results_RNN)),results_RNN,c='r')\n",
    "\n",
    "plt.subplot(2, 2, 4)\n",
    "green_patch = mpatches.Patch(color='green', label='Real')\n",
    "red_patch = mpatches.Patch(color='red', label='Predicción')\n",
    "plt.legend(handles=[green_patch, red_patch])\n",
    "plt.title('Prueba/Test Dispersión Modelo_Dengue_1 GRU - Barrancabermeja')\n",
    "plt.xlabel(\"Periodos\")\n",
    "plt.ylabel(\"Casos Dengue\")\n",
    "plt.scatter(range(len(y_test_GRU)),y_test_GRU,c='g')\n",
    "plt.scatter(range(len(results_GRU)),results_GRU,c='r')\n",
    "\n",
    "plt.show()"
   ]
  },
  {
   "cell_type": "code",
   "execution_count": null,
   "id": "3cef1537",
   "metadata": {},
   "outputs": [],
   "source": [
    "y_pred_LSTM = Barr_LSTM_model_1.predict(X_test_LSTM)\n",
    "y_pred_CNN = Barr_CNN_model_1.predict(X_test_CNN)\n",
    "y_pred_RNN = Barr_RNN_model_1.predict(X_test_RNN)\n",
    "y_pred_GRU = Barr_GRU_model_1.predict(X_test_GRU)\n",
    "\n",
    "y_train_inv_LSTM = dengue_transformer.inverse_transform(y_train_LSTM.reshape(1, -1))\n",
    "y_train_inv_CNN = dengue_transformer.inverse_transform(y_train_CNN.reshape(1, -1))\n",
    "y_train_inv_RNN = dengue_transformer.inverse_transform(y_train_RNN.reshape(1, -1))\n",
    "y_train_inv_GRU = dengue_transformer.inverse_transform(y_train_GRU.reshape(1, -1))\n",
    "\n",
    "y_test_inv_LSTM = dengue_transformer.inverse_transform(y_test_LSTM.reshape(1, -1))\n",
    "y_test_inv_CNN = dengue_transformer.inverse_transform(y_test_CNN.reshape(1, -1))\n",
    "y_test_inv_RNN = dengue_transformer.inverse_transform(y_test_RNN.reshape(1, -1))\n",
    "y_test_inv_GRU = dengue_transformer.inverse_transform(y_test_GRU.reshape(1, -1))\n",
    "\n",
    "y_pred_inv_LSTM = dengue_transformer.inverse_transform(y_pred_LSTM.reshape(1, -1))\n",
    "y_pred_inv_CNN = dengue_transformer.inverse_transform(y_pred_CNN.reshape(1, -1))\n",
    "y_pred_inv_RNN = dengue_transformer.inverse_transform(y_pred_RNN.reshape(1, -1))\n",
    "y_pred_inv_GRU = dengue_transformer.inverse_transform(y_pred_GRU.reshape(1, -1))"
   ]
  },
  {
   "cell_type": "code",
   "execution_count": null,
   "id": "e3cd2775",
   "metadata": {},
   "outputs": [],
   "source": [
    "plt.figure(figsize=(10,6))\n",
    "plt.plot(np.arange(0, len(y_train_LSTM)), y_train_inv_LSTM.flatten(), 'g', label=\"Historia\")\n",
    "plt.plot(np.arange(len(y_train_LSTM), len(y_train_LSTM) + len(y_test_LSTM)), y_test_inv_LSTM.flatten(), marker='.', label=\"Reales\")\n",
    "plt.plot(np.arange(len(y_train_LSTM), len(y_train_LSTM) + len(y_test_LSTM)), y_pred_inv_LSTM.flatten(), 'r', label=\"Predicciones\")\n",
    "plt.title('Predicciones Modelo_Dengue_1 LSTM - Barrancabermeja ')\n",
    "plt.ylabel('Casos de Dengue')\n",
    "plt.xlabel('Semanas')\n",
    "plt.legend()\n",
    "plt.show();"
   ]
  },
  {
   "cell_type": "code",
   "execution_count": null,
   "id": "bfebcf25",
   "metadata": {},
   "outputs": [],
   "source": [
    "plt.figure(figsize=(10,6))\n",
    "plt.plot(np.arange(0, len(y_train_CNN)), y_train_inv_CNN.flatten(), 'g', label=\"Historia\")\n",
    "plt.plot(np.arange(len(y_train_CNN), len(y_train_CNN) + len(y_test_CNN)), y_test_inv_CNN.flatten(), marker='.', label=\"Reales\")\n",
    "plt.plot(np.arange(len(y_train_CNN), len(y_train_CNN) + len(y_test_CNN)), y_pred_inv_CNN.flatten(), 'r', label=\"Predicciones\")\n",
    "plt.title('Predicciones Modelo_Dengue_1 CNN - Barrancabermeja ')\n",
    "plt.ylabel('Casos de Dengue')\n",
    "plt.xlabel('Semanas')\n",
    "plt.legend()\n",
    "plt.show();"
   ]
  },
  {
   "cell_type": "code",
   "execution_count": null,
   "id": "9e7ec303",
   "metadata": {},
   "outputs": [],
   "source": [
    "plt.figure(figsize=(10,6))\n",
    "plt.plot(np.arange(0, len(y_train_RNN)), y_train_inv_RNN.flatten(), 'g', label=\"Historia\")\n",
    "plt.plot(np.arange(len(y_train_RNN), len(y_train_RNN) + len(y_test_RNN)), y_test_inv_RNN.flatten(), marker='.', label=\"Reales\")\n",
    "plt.plot(np.arange(len(y_train_RNN), len(y_train_RNN) + len(y_test_RNN)), y_pred_inv_RNN.flatten(), 'r', label=\"Predicciones\")\n",
    "plt.title('Predicciones Modelo_Dengue_1 RNN - Barrancabermeja ')\n",
    "plt.ylabel('Casos de Dengue')\n",
    "plt.xlabel('Semanas')\n",
    "plt.legend()\n",
    "plt.show();"
   ]
  },
  {
   "cell_type": "code",
   "execution_count": null,
   "id": "92da9a9a",
   "metadata": {},
   "outputs": [],
   "source": [
    "plt.figure(figsize=(10,6))\n",
    "plt.plot(np.arange(0, len(y_train_GRU)), y_train_inv_GRU.flatten(), 'g', label=\"Historia\")\n",
    "plt.plot(np.arange(len(y_train_GRU), len(y_train_GRU) + len(y_test_GRU)), y_test_inv_GRU.flatten(), marker='.', label=\"Reales\")\n",
    "plt.plot(np.arange(len(y_train_GRU), len(y_train_GRU) + len(y_test_GRU)), y_pred_inv_GRU.flatten(), 'r', label=\"Predicciones\")\n",
    "plt.title('Predicciones Modelo_Dengue_1 GRU - Barrancabermeja ')\n",
    "plt.ylabel('Casos de Dengue')\n",
    "plt.xlabel('Semanas')\n",
    "plt.legend()\n",
    "plt.show();"
   ]
  },
  {
   "cell_type": "code",
   "execution_count": null,
   "id": "681b218d",
   "metadata": {},
   "outputs": [],
   "source": [
    "plt.figure(figsize=(15,10))\n",
    "plt.subplots_adjust(hspace=0.3, wspace=0.3)\n",
    "\n",
    "plt.subplot(2, 2, 1)\n",
    "plt.title('Real/predicción Modelo_Dengue_1 LSTM - Barrancabermeja' )\n",
    "green_patch = mpatches.Patch(color='dodgerblue', label=\"Verdaderos\")\n",
    "red_patch = mpatches.Patch(color='red', label=\"prediccción\")\n",
    "plt.legend(handles=[green_patch, red_patch])\n",
    "plt.plot(y_test_inv_LSTM.flatten(), marker='.', color= 'dodgerblue', label=\"Verdaderos\")\n",
    "plt.plot(y_pred_inv_LSTM.flatten(), color= 'red', label=\"prediccción\")\n",
    "plt.xlabel(\"Semanas\")\n",
    "plt.ylabel(\"Casos de Dengue\")\n",
    "plt.grid(True)\n",
    "\n",
    "plt.subplot(2, 2, 2)\n",
    "plt.title('Real/predicción Modelo_Dengue_1 CNN - Barrancabermeja' )\n",
    "green_patch = mpatches.Patch(color='dodgerblue', label=\"Verdaderos\")\n",
    "red_patch = mpatches.Patch(color='red', label=\"prediccción\")\n",
    "plt.legend(handles=[green_patch, red_patch])\n",
    "plt.plot(y_test_inv_CNN.flatten(), marker='.', color= 'dodgerblue', label=\"Verdaderos\")\n",
    "plt.plot(y_pred_inv_CNN.flatten(), color= 'red', label=\"prediccción\")\n",
    "plt.xlabel(\"Semanas\")\n",
    "plt.ylabel(\"Casos de Dengue\")\n",
    "plt.grid(True)\n",
    "\n",
    "plt.subplot(2, 2, 3)\n",
    "plt.title('Real/predicción Modelo_Dengue_1 RNN - Barrancabermeja' )\n",
    "green_patch = mpatches.Patch(color='dodgerblue', label=\"Verdaderos\")\n",
    "red_patch = mpatches.Patch(color='red', label=\"prediccción\")\n",
    "plt.legend(handles=[green_patch, red_patch])\n",
    "plt.plot(y_test_inv_RNN.flatten(), marker='.', color= 'dodgerblue', label=\"Verdaderos\")\n",
    "plt.plot(y_pred_inv_RNN.flatten(), color= 'red', label=\"prediccción\")\n",
    "plt.xlabel(\"Semanas\")\n",
    "plt.ylabel(\"Casos de Dengue\")\n",
    "plt.grid(True)\n",
    "\n",
    "plt.subplot(2, 2, 4)\n",
    "plt.title('Real/predicción Modelo_Dengue_1 GRU - Barrancabermeja' )\n",
    "green_patch = mpatches.Patch(color='dodgerblue', label=\"Verdaderos\")\n",
    "red_patch = mpatches.Patch(color='red', label=\"prediccción\")\n",
    "plt.legend(handles=[green_patch, red_patch])\n",
    "plt.plot(y_test_inv_GRU.flatten(), marker='.', color= 'dodgerblue', label=\"Verdaderos\")\n",
    "plt.plot(y_pred_inv_GRU.flatten(), color= 'red', label=\"prediccción\")\n",
    "plt.xlabel(\"Semanas\")\n",
    "plt.ylabel(\"Casos de Dengue\")\n",
    "plt.grid(True)\n",
    "\n",
    "plt.show()"
   ]
  },
  {
   "cell_type": "code",
   "execution_count": null,
   "id": "524ada3e",
   "metadata": {},
   "outputs": [],
   "source": [
    "score_LSTM = np.sqrt(metrics.mean_squared_error(y_test_inv_LSTM.flatten(), y_pred_inv_LSTM.flatten()))\n",
    "score_CNN = np.sqrt(metrics.mean_squared_error(y_test_inv_CNN.flatten(), y_pred_inv_CNN.flatten()))\n",
    "score_RNN = np.sqrt(metrics.mean_squared_error(y_test_inv_RNN.flatten(), y_pred_inv_RNN.flatten()))\n",
    "score_GRU = np.sqrt(metrics.mean_squared_error(y_test_inv_GRU.flatten(), y_pred_inv_GRU.flatten()))\n",
    "\n",
    "print(\"RMSE Modelo LSTM Dengue Barranca : {}\".format(score_LSTM))\n",
    "print(\"RMSE Modelo CNN Dengue Barranca  : {}\".format(score_CNN))\n",
    "print(\"RMSE Modelo RNN Dengue Barranca  : {}\".format(score_RNN))\n",
    "print(\"RMSE Modelo GRU Dengue Barranca  : {}\".format(score_GRU))"
   ]
  },
  {
   "cell_type": "code",
   "execution_count": null,
   "id": "45c953c8",
   "metadata": {},
   "outputs": [],
   "source": [
    "print(\"MSE Modelo LSTM Dengue Barranca  = \", mean_squared_error(y_test_inv_LSTM.flatten(), y_pred_inv_LSTM.flatten()))\n",
    "print(\"MSE Modelo CNN Dengue Barranca   = \", mean_squared_error(y_test_inv_CNN.flatten(), y_pred_inv_CNN.flatten()))\n",
    "print(\"MSE Modelo RNN Dengue Barranca   = \", mean_squared_error(y_test_inv_RNN.flatten(), y_pred_inv_RNN.flatten()))\n",
    "print(\"MSE Modelo GRU Dengue Barranca   = \", mean_squared_error(y_test_inv_GRU.flatten(), y_pred_inv_GRU.flatten()))"
   ]
  },
  {
   "cell_type": "code",
   "execution_count": null,
   "id": "880c37be",
   "metadata": {},
   "outputs": [],
   "source": [
    "print(\"MAE Modelo LSTM Dengue Barranca = \", mean_absolute_error(y_test_inv_LSTM.flatten(), y_pred_inv_LSTM.flatten()))\n",
    "print(\"MAE Modelo CNN Dengue Barranca  = \", mean_absolute_error(y_test_inv_CNN.flatten(), y_pred_inv_CNN.flatten()))\n",
    "print(\"MAE Modelo RNN Dengue Barranca  = \", mean_absolute_error(y_test_inv_RNN.flatten(), y_pred_inv_RNN.flatten()))\n",
    "print(\"MAE Modelo GRU Dengue Barranca  = \", mean_absolute_error(y_test_inv_GRU.flatten(), y_pred_inv_GRU.flatten()))"
   ]
  },
  {
   "cell_type": "code",
   "execution_count": null,
   "id": "67540aa9",
   "metadata": {},
   "outputs": [],
   "source": [
    "print(\"r2_score Modelo LSTM Dengue Barranca  = \", r2_score(y_test_inv_LSTM.flatten(), y_pred_inv_LSTM.flatten()))\n",
    "print(\"r2_score Modelo CNN Dengue Barranca  = \", r2_score(y_test_inv_CNN.flatten(), y_pred_inv_CNN.flatten()))\n",
    "print(\"r2_score Modelo RNN Dengue Barranca  = \", r2_score(y_test_inv_RNN.flatten(), y_pred_inv_RNN.flatten()))\n",
    "print(\"r2_score Modelo GRU Dengue Barranca  = \", r2_score(y_test_inv_GRU.flatten(), y_pred_inv_GRU.flatten()))"
   ]
  },
  {
   "cell_type": "code",
   "execution_count": null,
   "id": "f9b5ca5d",
   "metadata": {},
   "outputs": [],
   "source": [
    "print(\"explained_variance_score Modelo LSTM Dengue Barranca  = \", explained_variance_score(y_test_inv_LSTM.flatten(), \n",
    "                                                                                           y_pred_inv_LSTM.flatten()))\n",
    "print(\"explained_variance_score Modelo CNN Dengue Barranca  = \", explained_variance_score(y_test_inv_CNN.flatten(), \n",
    "                                                                                           y_pred_inv_CNN.flatten()))\n",
    "print(\"explained_variance_score Modelo RNN Dengue Barranca  = \", explained_variance_score(y_test_inv_RNN.flatten(), \n",
    "                                                                                           y_pred_inv_RNN.flatten()))\n",
    "print(\"explained_variance_score Modelo GRU Dengue Barranca  = \", explained_variance_score(y_test_inv_GRU.flatten(), \n",
    "                                                                                           y_test_inv_GRU.flatten()))"
   ]
  },
  {
   "cell_type": "markdown",
   "id": "79f06637",
   "metadata": {},
   "source": [
    "### VISUALIZACIÓN DE LOS VALORES TESTEADOS VS LAS PREDICCIONES"
   ]
  },
  {
   "cell_type": "code",
   "execution_count": 25,
   "id": "e2e341f6",
   "metadata": {},
   "outputs": [
    {
     "name": "stdout",
     "output_type": "stream",
     "text": [
      "   Actuales  Predicciones  diferencia\n",
      "0       7.0      4.200706   -2.799294\n",
      "1       8.0      4.113593   -3.886407\n",
      "2       4.0      4.017939    0.017939\n",
      "3       5.0      4.155035   -0.844965\n",
      "4       5.0      4.044777   -0.955223\n",
      "     Actuales  Predicciones  diferencia\n",
      "173      16.0     13.803697   -2.196303\n",
      "174      19.0     14.013272   -4.986728\n",
      "175      14.0     14.179347    0.179347\n",
      "176       7.0     14.428615    7.428615\n",
      "177       8.0     14.038336    6.038336\n"
     ]
    }
   ],
   "source": [
    "#MODELO LSTM\n",
    "resultados_LSTM = pd.DataFrame({ 'Actuales':y_test_inv_LSTM.flatten(), 'Predicciones': y_pred_inv_LSTM.flatten()})\n",
    "resultados_LSTM['diferencia'] = resultados_LSTM['Predicciones'] - resultados_LSTM['Actuales']\n",
    "print(resultados_LSTM.head(5))\n",
    "print(resultados_LSTM.tail(5))"
   ]
  },
  {
   "cell_type": "code",
   "execution_count": null,
   "id": "9fba9ffc",
   "metadata": {},
   "outputs": [],
   "source": [
    "#MODELO CNN\n",
    "resultados_CNN = pd.DataFrame({ 'Actuales':y_test_inv_CNN.flatten(), 'Predicciones': y_pred_inv_CNN.flatten()})\n",
    "resultados_CNN['diferencia'] = resultados_CNN['Predicciones'] - resultados_CNN['Actuales']\n",
    "print(resultados_CNN.head(5))\n",
    "print(resultados_CNN.tail(5))"
   ]
  },
  {
   "cell_type": "code",
   "execution_count": null,
   "id": "b0f3b722",
   "metadata": {},
   "outputs": [],
   "source": [
    "#MODELO RNN\n",
    "resultados_RNN = pd.DataFrame({ 'Actuales':y_test_inv_RNN.flatten(), 'Predicciones': y_pred_inv_RNN.flatten()})\n",
    "resultados_RNN['diferencia'] = resultados_RNN['Predicciones'] - resultados_RNN['Actuales']\n",
    "print(resultados_RNN.head(5))\n",
    "print(resultados_RNN.tail(5))"
   ]
  },
  {
   "cell_type": "code",
   "execution_count": null,
   "id": "2d81bd7f",
   "metadata": {},
   "outputs": [],
   "source": [
    "#MODELO GRU\n",
    "resultados_GRU = pd.DataFrame({ 'Actuales':y_test_inv_GRU.flatten(), 'Predicciones': y_pred_inv_GRU.flatten()})\n",
    "resultados_GRU['diferencia'] = resultados_GRU['Predicciones'] - resultados_GRU['Actuales']\n",
    "print(resultados_GRU.head(5))\n",
    "print(resultados_GRU.tail(5))"
   ]
  },
  {
   "cell_type": "code",
   "execution_count": null,
   "id": "1f2c7543",
   "metadata": {},
   "outputs": [],
   "source": []
  }
 ],
 "metadata": {
  "kernelspec": {
   "display_name": "Python 3 (ipykernel)",
   "language": "python",
   "name": "python3"
  },
  "language_info": {
   "codemirror_mode": {
    "name": "ipython",
    "version": 3
   },
   "file_extension": ".py",
   "mimetype": "text/x-python",
   "name": "python",
   "nbconvert_exporter": "python",
   "pygments_lexer": "ipython3",
   "version": "3.9.12"
  }
 },
 "nbformat": 4,
 "nbformat_minor": 5
}

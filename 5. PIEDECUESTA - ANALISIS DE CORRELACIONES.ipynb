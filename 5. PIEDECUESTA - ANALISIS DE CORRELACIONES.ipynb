{
 "cells": [
  {
   "cell_type": "markdown",
   "id": "f5f5d32c",
   "metadata": {},
   "source": [
    "# ANÁLISIS DE CORRELACIONES"
   ]
  },
  {
   "cell_type": "code",
   "execution_count": 1,
   "id": "ed7069b9",
   "metadata": {},
   "outputs": [],
   "source": [
    "import pandas as pd\n",
    "import numpy as np\n",
    "from pandas import read_csv\n",
    "from pandas import DataFrame\n",
    "from scipy.stats import pearsonr\n",
    "import seaborn as sns"
   ]
  },
  {
   "cell_type": "markdown",
   "id": "efa22254",
   "metadata": {},
   "source": [
    "## Piedecuesta"
   ]
  },
  {
   "cell_type": "code",
   "execution_count": 2,
   "id": "14f214eb",
   "metadata": {},
   "outputs": [
    {
     "data": {
      "text/plain": [
       "Municipio            0\n",
       "Año                  0\n",
       "Semana_Epi           0\n",
       "Casos_Dengue         0\n",
       "Prom_Dia_Preci       6\n",
       "Prom_Dia_Preci_1     6\n",
       "Prom_Dia_Preci_2     6\n",
       "Prom_Dia_Preci_3     6\n",
       "Prom_Dia_Preci_4     6\n",
       "Prom_Dia_Preci_5     6\n",
       "Prom_Dia_Preci_6     6\n",
       "Total_Preci_Sem      6\n",
       "Total_Preci_Sem_1    6\n",
       "Total_Preci_Sem_2    6\n",
       "Total_Preci_Sem_3    6\n",
       "Total_Preci_Sem_4    6\n",
       "Total_Preci_Sem_5    6\n",
       "Total_Preci_Sem_6    6\n",
       "dtype: int64"
      ]
     },
     "execution_count": 2,
     "metadata": {},
     "output_type": "execute_result"
    }
   ],
   "source": [
    "datos = read_csv('Piedecuesta_Lags.csv', encoding='latin-1', sep=\";\")\n",
    "datos.isnull().sum()"
   ]
  },
  {
   "cell_type": "code",
   "execution_count": 3,
   "id": "b20a7030",
   "metadata": {},
   "outputs": [
    {
     "name": "stderr",
     "output_type": "stream",
     "text": [
      "C:\\Users\\Sonia Isa Polo\\anaconda3\\lib\\site-packages\\sklearn\\base.py:493: FutureWarning: The feature names should match those that were passed during fit. Starting version 1.2, an error will be raised.\n",
      "Feature names unseen at fit time:\n",
      "- Prom_Dia_Preci_2\n",
      "Feature names seen at fit time, yet now missing:\n",
      "- Prom_Dia_Preci_4\n",
      "\n",
      "  warnings.warn(message, FutureWarning)\n"
     ]
    }
   ],
   "source": [
    "from sklearn.impute import KNNImputer\n",
    "\n",
    "knnImputer = KNNImputer (missing_values=np.nan, n_neighbors=2, \n",
    "                         weights=\"uniform\", metric=\"nan_euclidean\")\n",
    "knnImputer.fit(datos[['Prom_Dia_Preci']])\n",
    "datos['Prom_Dia_Preci'] = knnImputer.transform(datos[['Prom_Dia_Preci']]).ravel()\n",
    "knnImputer.fit(datos[['Total_Preci_Sem']])\n",
    "datos['Total_Preci_Sem'] = knnImputer.transform(datos[['Total_Preci_Sem']]).ravel()\n",
    "\n",
    "knnImputer = KNNImputer (missing_values=np.nan, n_neighbors=2, \n",
    "                         weights=\"uniform\", metric=\"nan_euclidean\")\n",
    "knnImputer.fit(datos[['Prom_Dia_Preci_1']])\n",
    "datos['Prom_Dia_Preci_1'] = knnImputer.transform(datos[['Prom_Dia_Preci_1']]).ravel()\n",
    "knnImputer.fit(datos[['Total_Preci_Sem_1']])\n",
    "datos['Total_Preci_Sem_1'] = knnImputer.transform(datos[['Total_Preci_Sem_1']]).ravel()\n",
    "\n",
    "knnImputer = KNNImputer (missing_values=np.nan, n_neighbors=2, \n",
    "                         weights=\"uniform\", metric=\"nan_euclidean\")\n",
    "knnImputer.fit(datos[['Prom_Dia_Preci_2']])\n",
    "datos['Prom_Dia_Preci_2'] = knnImputer.transform(datos[['Prom_Dia_Preci_2']]).ravel()\n",
    "knnImputer.fit(datos[['Total_Preci_Sem_2']])\n",
    "datos['Total_Preci_Sem_2'] = knnImputer.transform(datos[['Total_Preci_Sem_2']]).ravel()\n",
    "\n",
    "knnImputer = KNNImputer (missing_values=np.nan, n_neighbors=2, \n",
    "                         weights=\"uniform\", metric=\"nan_euclidean\")\n",
    "knnImputer.fit(datos[['Prom_Dia_Preci_3']])\n",
    "datos['Prom_Dia_Preci_3'] = knnImputer.transform(datos[['Prom_Dia_Preci_3']]).ravel()\n",
    "knnImputer.fit(datos[['Total_Preci_Sem_3']])\n",
    "datos['Total_Preci_Sem_3'] = knnImputer.transform(datos[['Total_Preci_Sem_3']]).ravel()\n",
    "\n",
    "knnImputer = KNNImputer (missing_values=np.nan, n_neighbors=2, \n",
    "                         weights=\"uniform\", metric=\"nan_euclidean\")\n",
    "knnImputer.fit(datos[['Prom_Dia_Preci_4']])\n",
    "datos['Prom_Dia_Preci_4'] = knnImputer.transform(datos[['Prom_Dia_Preci_2']]).ravel()\n",
    "knnImputer.fit(datos[['Total_Preci_Sem_4']])\n",
    "datos['Total_Preci_Sem_4'] = knnImputer.transform(datos[['Total_Preci_Sem_4']]).ravel()\n",
    "\n",
    "knnImputer = KNNImputer (missing_values=np.nan, n_neighbors=2, \n",
    "                         weights=\"uniform\", metric=\"nan_euclidean\")\n",
    "knnImputer.fit(datos[['Prom_Dia_Preci_5']])\n",
    "datos['Prom_Dia_Preci_5'] = knnImputer.transform(datos[['Prom_Dia_Preci_5']]).ravel()\n",
    "knnImputer.fit(datos[['Total_Preci_Sem_5']])\n",
    "datos['Total_Preci_Sem_5'] = knnImputer.transform(datos[['Total_Preci_Sem_5']]).ravel()\n",
    "\n",
    "knnImputer = KNNImputer (missing_values=np.nan, n_neighbors=2, \n",
    "                         weights=\"uniform\", metric=\"nan_euclidean\")\n",
    "knnImputer.fit(datos[['Prom_Dia_Preci_6']])\n",
    "datos['Prom_Dia_Preci_6'] = knnImputer.transform(datos[['Prom_Dia_Preci_6']]).ravel()\n",
    "knnImputer.fit(datos[['Total_Preci_Sem_6']])\n",
    "datos['Total_Preci_Sem_6'] = knnImputer.transform(datos[['Total_Preci_Sem_6']]).ravel()"
   ]
  },
  {
   "cell_type": "code",
   "execution_count": 4,
   "id": "4ec9d73d",
   "metadata": {},
   "outputs": [
    {
     "data": {
      "text/plain": [
       "Municipio            0\n",
       "Año                  0\n",
       "Semana_Epi           0\n",
       "Casos_Dengue         0\n",
       "Prom_Dia_Preci       0\n",
       "Prom_Dia_Preci_1     0\n",
       "Prom_Dia_Preci_2     0\n",
       "Prom_Dia_Preci_3     0\n",
       "Prom_Dia_Preci_4     0\n",
       "Prom_Dia_Preci_5     0\n",
       "Prom_Dia_Preci_6     0\n",
       "Total_Preci_Sem      0\n",
       "Total_Preci_Sem_1    0\n",
       "Total_Preci_Sem_2    0\n",
       "Total_Preci_Sem_3    0\n",
       "Total_Preci_Sem_4    0\n",
       "Total_Preci_Sem_5    0\n",
       "Total_Preci_Sem_6    0\n",
       "dtype: int64"
      ]
     },
     "execution_count": 4,
     "metadata": {},
     "output_type": "execute_result"
    }
   ],
   "source": [
    "#Se verifican datos nulos o faltantes\n",
    "datos.isnull().sum()"
   ]
  },
  {
   "cell_type": "code",
   "execution_count": 5,
   "id": "11162d00",
   "metadata": {},
   "outputs": [
    {
     "data": {
      "text/html": [
       "<div>\n",
       "<style scoped>\n",
       "    .dataframe tbody tr th:only-of-type {\n",
       "        vertical-align: middle;\n",
       "    }\n",
       "\n",
       "    .dataframe tbody tr th {\n",
       "        vertical-align: top;\n",
       "    }\n",
       "\n",
       "    .dataframe thead th {\n",
       "        text-align: right;\n",
       "    }\n",
       "</style>\n",
       "<table border=\"1\" class=\"dataframe\">\n",
       "  <thead>\n",
       "    <tr style=\"text-align: right;\">\n",
       "      <th></th>\n",
       "      <th>Municipio</th>\n",
       "      <th>Año</th>\n",
       "      <th>Semana_Epi</th>\n",
       "      <th>Casos_Dengue</th>\n",
       "      <th>Prom_Dia_Preci</th>\n",
       "      <th>Prom_Dia_Preci_1</th>\n",
       "      <th>Prom_Dia_Preci_2</th>\n",
       "      <th>Prom_Dia_Preci_3</th>\n",
       "      <th>Prom_Dia_Preci_4</th>\n",
       "      <th>Prom_Dia_Preci_5</th>\n",
       "      <th>Prom_Dia_Preci_6</th>\n",
       "      <th>Total_Preci_Sem</th>\n",
       "      <th>Total_Preci_Sem_1</th>\n",
       "      <th>Total_Preci_Sem_2</th>\n",
       "      <th>Total_Preci_Sem_3</th>\n",
       "      <th>Total_Preci_Sem_4</th>\n",
       "      <th>Total_Preci_Sem_5</th>\n",
       "      <th>Total_Preci_Sem_6</th>\n",
       "    </tr>\n",
       "  </thead>\n",
       "  <tbody>\n",
       "    <tr>\n",
       "      <th>0</th>\n",
       "      <td>Piedecuesta</td>\n",
       "      <td>2008</td>\n",
       "      <td>1</td>\n",
       "      <td>8</td>\n",
       "      <td>0.00</td>\n",
       "      <td>0.26</td>\n",
       "      <td>2.17</td>\n",
       "      <td>1.19</td>\n",
       "      <td>2.17</td>\n",
       "      <td>0.93</td>\n",
       "      <td>5.80</td>\n",
       "      <td>0.0</td>\n",
       "      <td>2.1</td>\n",
       "      <td>15.2</td>\n",
       "      <td>8.3</td>\n",
       "      <td>17.2</td>\n",
       "      <td>6.5</td>\n",
       "      <td>40.6</td>\n",
       "    </tr>\n",
       "    <tr>\n",
       "      <th>1</th>\n",
       "      <td>Piedecuesta</td>\n",
       "      <td>2008</td>\n",
       "      <td>2</td>\n",
       "      <td>3</td>\n",
       "      <td>6.24</td>\n",
       "      <td>0.00</td>\n",
       "      <td>0.26</td>\n",
       "      <td>2.17</td>\n",
       "      <td>0.26</td>\n",
       "      <td>2.46</td>\n",
       "      <td>0.93</td>\n",
       "      <td>43.7</td>\n",
       "      <td>0.0</td>\n",
       "      <td>2.1</td>\n",
       "      <td>15.2</td>\n",
       "      <td>8.3</td>\n",
       "      <td>17.2</td>\n",
       "      <td>6.5</td>\n",
       "    </tr>\n",
       "    <tr>\n",
       "      <th>2</th>\n",
       "      <td>Piedecuesta</td>\n",
       "      <td>2008</td>\n",
       "      <td>3</td>\n",
       "      <td>2</td>\n",
       "      <td>7.11</td>\n",
       "      <td>6.24</td>\n",
       "      <td>0.00</td>\n",
       "      <td>0.26</td>\n",
       "      <td>0.00</td>\n",
       "      <td>1.19</td>\n",
       "      <td>2.46</td>\n",
       "      <td>49.8</td>\n",
       "      <td>43.7</td>\n",
       "      <td>0.0</td>\n",
       "      <td>2.1</td>\n",
       "      <td>15.2</td>\n",
       "      <td>8.3</td>\n",
       "      <td>17.2</td>\n",
       "    </tr>\n",
       "  </tbody>\n",
       "</table>\n",
       "</div>"
      ],
      "text/plain": [
       "     Municipio   Año  Semana_Epi  Casos_Dengue  Prom_Dia_Preci  \\\n",
       "0  Piedecuesta  2008           1             8            0.00   \n",
       "1  Piedecuesta  2008           2             3            6.24   \n",
       "2  Piedecuesta  2008           3             2            7.11   \n",
       "\n",
       "   Prom_Dia_Preci_1  Prom_Dia_Preci_2  Prom_Dia_Preci_3  Prom_Dia_Preci_4  \\\n",
       "0              0.26              2.17              1.19              2.17   \n",
       "1              0.00              0.26              2.17              0.26   \n",
       "2              6.24              0.00              0.26              0.00   \n",
       "\n",
       "   Prom_Dia_Preci_5  Prom_Dia_Preci_6  Total_Preci_Sem  Total_Preci_Sem_1  \\\n",
       "0              0.93              5.80              0.0                2.1   \n",
       "1              2.46              0.93             43.7                0.0   \n",
       "2              1.19              2.46             49.8               43.7   \n",
       "\n",
       "   Total_Preci_Sem_2  Total_Preci_Sem_3  Total_Preci_Sem_4  Total_Preci_Sem_5  \\\n",
       "0               15.2                8.3               17.2                6.5   \n",
       "1                2.1               15.2                8.3               17.2   \n",
       "2                0.0                2.1               15.2                8.3   \n",
       "\n",
       "   Total_Preci_Sem_6  \n",
       "0               40.6  \n",
       "1                6.5  \n",
       "2               17.2  "
      ]
     },
     "execution_count": 5,
     "metadata": {},
     "output_type": "execute_result"
    }
   ],
   "source": [
    "datos.head(3)"
   ]
  },
  {
   "cell_type": "code",
   "execution_count": 6,
   "id": "5032e76a",
   "metadata": {},
   "outputs": [
    {
     "data": {
      "text/plain": [
       "Index(['Municipio', 'Año', 'Semana_Epi', 'Casos_Dengue', 'Prom_Dia_Preci',\n",
       "       'Prom_Dia_Preci_1', 'Prom_Dia_Preci_2', 'Prom_Dia_Preci_3',\n",
       "       'Prom_Dia_Preci_4', 'Prom_Dia_Preci_5', 'Prom_Dia_Preci_6',\n",
       "       'Total_Preci_Sem', 'Total_Preci_Sem_1', 'Total_Preci_Sem_2',\n",
       "       'Total_Preci_Sem_3', 'Total_Preci_Sem_4', 'Total_Preci_Sem_5',\n",
       "       'Total_Preci_Sem_6'],\n",
       "      dtype='object')"
      ]
     },
     "execution_count": 6,
     "metadata": {},
     "output_type": "execute_result"
    }
   ],
   "source": [
    "datos.columns"
   ]
  },
  {
   "cell_type": "code",
   "execution_count": 7,
   "id": "dadc93fa",
   "metadata": {},
   "outputs": [],
   "source": [
    "zero_feat=['Prom_Dia_Preci',\n",
    "       'Prom_Dia_Preci_1', 'Prom_Dia_Preci_2', 'Prom_Dia_Preci_3',\n",
    "       'Prom_Dia_Preci_4', 'Prom_Dia_Preci_5', 'Prom_Dia_Preci_6',\n",
    "       'Total_Preci_Sem', 'Total_Preci_Sem_1', 'Total_Preci_Sem_2',\n",
    "       'Total_Preci_Sem_3', 'Total_Preci_Sem_4', 'Total_Preci_Sem_5',\n",
    "       'Total_Preci_Sem_6']\n",
    "out_feat=['Casos_Dengue']"
   ]
  },
  {
   "cell_type": "code",
   "execution_count": 8,
   "id": "1b849189",
   "metadata": {
    "scrolled": false
   },
   "outputs": [
    {
     "name": "stdout",
     "output_type": "stream",
     "text": [
      "La Correlación de Prom_Dia_Preci Con Casos_Dengue es -0.02325089808654448\n",
      "------------------------------------------------------------\n",
      "La Correlación de Prom_Dia_Preci_1 Con Casos_Dengue es -0.016063995575761214\n",
      "------------------------------------------------------------\n",
      "La Correlación de Prom_Dia_Preci_2 Con Casos_Dengue es 0.013305172414801957\n",
      "------------------------------------------------------------\n",
      "La Correlación de Prom_Dia_Preci_3 Con Casos_Dengue es -0.017773652156811558\n",
      "------------------------------------------------------------\n",
      "La Correlación de Prom_Dia_Preci_4 Con Casos_Dengue es 0.013305172414801957\n",
      "------------------------------------------------------------\n",
      "La Correlación de Prom_Dia_Preci_5 Con Casos_Dengue es -0.005644518168312039\n",
      "------------------------------------------------------------\n",
      "La Correlación de Prom_Dia_Preci_6 Con Casos_Dengue es -0.02034960310203399\n",
      "------------------------------------------------------------\n",
      "La Correlación de Total_Preci_Sem Con Casos_Dengue es -0.023918325396574056\n",
      "------------------------------------------------------------\n",
      "La Correlación de Total_Preci_Sem_1 Con Casos_Dengue es -0.016489455041873317\n",
      "------------------------------------------------------------\n",
      "La Correlación de Total_Preci_Sem_2 Con Casos_Dengue es 0.012388547282391485\n",
      "------------------------------------------------------------\n",
      "La Correlación de Total_Preci_Sem_3 Con Casos_Dengue es -0.018507220616412356\n",
      "------------------------------------------------------------\n",
      "La Correlación de Total_Preci_Sem_4 Con Casos_Dengue es -0.03588642217877064\n",
      "------------------------------------------------------------\n",
      "La Correlación de Total_Preci_Sem_5 Con Casos_Dengue es -0.006459498855534769\n",
      "------------------------------------------------------------\n",
      "La Correlación de Total_Preci_Sem_6 Con Casos_Dengue es -0.02094939509631588\n",
      "------------------------------------------------------------\n"
     ]
    }
   ],
   "source": [
    "from scipy.stats import pearsonr\n",
    "for i in zero_feat:\n",
    "    for j in out_feat:   \n",
    "        corr, _ = pearsonr(datos[i], datos[j])\n",
    "        print('La Correlación de {0} Con {1} es {2}'.format(i,j,corr))\n",
    "    print('-'*60)"
   ]
  },
  {
   "cell_type": "code",
   "execution_count": null,
   "id": "7f49973c",
   "metadata": {},
   "outputs": [],
   "source": []
  },
  {
   "cell_type": "code",
   "execution_count": 9,
   "id": "44f0e1c7",
   "metadata": {},
   "outputs": [
    {
     "name": "stdout",
     "output_type": "stream",
     "text": [
      "Casos_Dengue         1.000000\n",
      "Prom_Dia_Preci_2     0.013305\n",
      "Prom_Dia_Preci_4     0.013305\n",
      "Total_Preci_Sem_2    0.012389\n",
      "Prom_Dia_Preci_5    -0.005645\n",
      "Total_Preci_Sem_5   -0.006459\n",
      "Semana_Epi          -0.015582\n",
      "Prom_Dia_Preci_1    -0.016064\n",
      "Total_Preci_Sem_1   -0.016489\n",
      "Prom_Dia_Preci_3    -0.017774\n",
      "Total_Preci_Sem_3   -0.018507\n",
      "Prom_Dia_Preci_6    -0.020350\n",
      "Total_Preci_Sem_6   -0.020949\n",
      "Prom_Dia_Preci      -0.023251\n",
      "Total_Preci_Sem     -0.023918\n",
      "Total_Preci_Sem_4   -0.035886\n",
      "Año                 -0.168726\n"
     ]
    }
   ],
   "source": [
    "# Find the correlations between the energy price and the rest of the features\n",
    "\n",
    "correlaciones = datos.corr(method='pearson')\n",
    "print(correlaciones['Casos_Dengue'].sort_values(ascending=False).to_string())"
   ]
  },
  {
   "cell_type": "code",
   "execution_count": null,
   "id": "036f8b83",
   "metadata": {},
   "outputs": [],
   "source": []
  }
 ],
 "metadata": {
  "kernelspec": {
   "display_name": "Python 3 (ipykernel)",
   "language": "python",
   "name": "python3"
  },
  "language_info": {
   "codemirror_mode": {
    "name": "ipython",
    "version": 3
   },
   "file_extension": ".py",
   "mimetype": "text/x-python",
   "name": "python",
   "nbconvert_exporter": "python",
   "pygments_lexer": "ipython3",
   "version": "3.9.12"
  }
 },
 "nbformat": 4,
 "nbformat_minor": 5
}

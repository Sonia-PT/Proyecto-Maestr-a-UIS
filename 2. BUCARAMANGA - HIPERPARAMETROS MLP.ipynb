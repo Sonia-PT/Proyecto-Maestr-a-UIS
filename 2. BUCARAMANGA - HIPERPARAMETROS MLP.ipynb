{
 "cells": [
  {
   "cell_type": "code",
   "execution_count": 1,
   "id": "d5be7176",
   "metadata": {},
   "outputs": [],
   "source": [
    "import pandas as pd\n",
    "import numpy as np\n",
    "from numpy import concatenate\n",
    "from pandas import concat\n",
    "from pandas import read_csv\n",
    "from pandas import DataFrame\n",
    "import tensorflow as tf\n",
    "from tensorflow import keras\n",
    "import os\n",
    "import datetime\n",
    "import IPython\n",
    "import IPython.display\n",
    "import plotly.express as px # to plot the time series plot\n",
    "from sklearn import metrics # for the evaluation\n",
    "from sklearn.preprocessing import MinMaxScaler\n",
    "from sklearn.impute import KNNImputer\n",
    "from sklearn.model_selection import train_test_split\n",
    "from sklearn.metrics import mean_absolute_error, mean_squared_error, r2_score\n",
    "from sklearn.metrics import explained_variance_score, mean_absolute_percentage_error\n",
    "from tensorflow.keras.models import Sequential\n",
    "from tensorflow.keras.layers import Activation,Flatten, LSTM, Dense, Dropout, TimeDistributed, Conv1D, MaxPooling1D\n",
    "from tensorflow.keras.layers import Bidirectional, Input, Reshape, RepeatVector, Concatenate\n",
    "from tensorflow.keras.callbacks import EarlyStopping, ReduceLROnPlateau, ModelCheckpoint\n",
    "from tensorflow.keras.models import Model\n",
    "from tensorflow.keras.utils import plot_model\n",
    "from sklearn.model_selection import RandomizedSearchCV\n",
    "import matplotlib.pyplot as plt\n",
    "import matplotlib.patches as mpatches\n",
    "import matplotlib as mpl\n",
    "%matplotlib inline\n",
    "from scipy.stats import randint as sp_randint\n",
    "np.random.seed(123) # for reproducibility\n",
    "import warnings\n",
    "warnings.filterwarnings('ignore')\n",
    "import tensorflow as tf\n",
    "from tensorflow import keras\n",
    "from scikeras.wrappers import KerasClassifier, KerasRegressor\n",
    "import keras_tuner"
   ]
  },
  {
   "cell_type": "code",
   "execution_count": 2,
   "id": "c7bfc81c",
   "metadata": {},
   "outputs": [
    {
     "data": {
      "text/plain": [
       "Index(['Casos_Dengue', 'Prom_Dia_Preci', 'Total_Preci_Sem'], dtype='object')"
      ]
     },
     "execution_count": 2,
     "metadata": {},
     "output_type": "execute_result"
    }
   ],
   "source": [
    "# CARGAR LA BASE DE DATOS\n",
    "from pandas import read_csv\n",
    "datos = read_csv('Bucaramanga_Lags.csv', encoding='latin-1', sep=\";\")\n",
    "# Dropping the id and date columns\n",
    "datos = datos.drop(['Municipio', 'Año', 'Semana_Epi','Prom_Dia_Preci_1', 'Prom_Dia_Preci_2', 'Prom_Dia_Preci_3',\n",
    "       'Prom_Dia_Preci_4', 'Prom_Dia_Preci_5', 'Prom_Dia_Preci_6', 'Total_Preci_Sem_1', 'Total_Preci_Sem_2',\n",
    "       'Total_Preci_Sem_3', 'Total_Preci_Sem_4', 'Total_Preci_Sem_5','Total_Preci_Sem_6'],axis=1)\n",
    "datos.columns"
   ]
  },
  {
   "cell_type": "code",
   "execution_count": 3,
   "id": "28a4b7d7",
   "metadata": {},
   "outputs": [
    {
     "name": "stdout",
     "output_type": "stream",
     "text": [
      "436 188\n"
     ]
    }
   ],
   "source": [
    "train_size = int(len(datos) * 0.7)\n",
    "test_size = len(datos) - train_size\n",
    "train, test = datos.iloc[0:train_size], datos.iloc[train_size:len(datos)]\n",
    "print(len(train), len(test))"
   ]
  },
  {
   "cell_type": "code",
   "execution_count": 4,
   "id": "552b09d6",
   "metadata": {},
   "outputs": [
    {
     "data": {
      "text/html": [
       "<div>\n",
       "<style scoped>\n",
       "    .dataframe tbody tr th:only-of-type {\n",
       "        vertical-align: middle;\n",
       "    }\n",
       "\n",
       "    .dataframe tbody tr th {\n",
       "        vertical-align: top;\n",
       "    }\n",
       "\n",
       "    .dataframe thead th {\n",
       "        text-align: right;\n",
       "    }\n",
       "</style>\n",
       "<table border=\"1\" class=\"dataframe\">\n",
       "  <thead>\n",
       "    <tr style=\"text-align: right;\">\n",
       "      <th></th>\n",
       "      <th>Casos_Dengue</th>\n",
       "      <th>Prom_Dia_Preci</th>\n",
       "      <th>Total_Preci_Sem</th>\n",
       "    </tr>\n",
       "  </thead>\n",
       "  <tbody>\n",
       "    <tr>\n",
       "      <th>0</th>\n",
       "      <td>24</td>\n",
       "      <td>0.000000</td>\n",
       "      <td>0.000000</td>\n",
       "    </tr>\n",
       "    <tr>\n",
       "      <th>1</th>\n",
       "      <td>36</td>\n",
       "      <td>0.111616</td>\n",
       "      <td>0.111562</td>\n",
       "    </tr>\n",
       "    <tr>\n",
       "      <th>2</th>\n",
       "      <td>31</td>\n",
       "      <td>0.109060</td>\n",
       "      <td>0.109128</td>\n",
       "    </tr>\n",
       "    <tr>\n",
       "      <th>3</th>\n",
       "      <td>34</td>\n",
       "      <td>0.111616</td>\n",
       "      <td>0.111562</td>\n",
       "    </tr>\n",
       "    <tr>\n",
       "      <th>4</th>\n",
       "      <td>33</td>\n",
       "      <td>0.000000</td>\n",
       "      <td>0.000000</td>\n",
       "    </tr>\n",
       "  </tbody>\n",
       "</table>\n",
       "</div>"
      ],
      "text/plain": [
       "   Casos_Dengue  Prom_Dia_Preci  Total_Preci_Sem\n",
       "0            24        0.000000         0.000000\n",
       "1            36        0.111616         0.111562\n",
       "2            31        0.109060         0.109128\n",
       "3            34        0.111616         0.111562\n",
       "4            33        0.000000         0.000000"
      ]
     },
     "execution_count": 4,
     "metadata": {},
     "output_type": "execute_result"
    }
   ],
   "source": [
    "f_transformer = MinMaxScaler(feature_range=(0, 1))\n",
    "f_columns = ['Prom_Dia_Preci', 'Total_Preci_Sem']\n",
    "f_transformer = f_transformer.fit(train[f_columns].to_numpy())\n",
    "train.loc[:, f_columns] = f_transformer.transform(train[f_columns].to_numpy())\n",
    "train.head()"
   ]
  },
  {
   "cell_type": "code",
   "execution_count": 5,
   "id": "34165bf8",
   "metadata": {},
   "outputs": [
    {
     "data": {
      "text/html": [
       "<div>\n",
       "<style scoped>\n",
       "    .dataframe tbody tr th:only-of-type {\n",
       "        vertical-align: middle;\n",
       "    }\n",
       "\n",
       "    .dataframe tbody tr th {\n",
       "        vertical-align: top;\n",
       "    }\n",
       "\n",
       "    .dataframe thead th {\n",
       "        text-align: right;\n",
       "    }\n",
       "</style>\n",
       "<table border=\"1\" class=\"dataframe\">\n",
       "  <thead>\n",
       "    <tr style=\"text-align: right;\">\n",
       "      <th></th>\n",
       "      <th>Casos_Dengue</th>\n",
       "      <th>Prom_Dia_Preci</th>\n",
       "      <th>Total_Preci_Sem</th>\n",
       "    </tr>\n",
       "  </thead>\n",
       "  <tbody>\n",
       "    <tr>\n",
       "      <th>count</th>\n",
       "      <td>436.000000</td>\n",
       "      <td>436.000000</td>\n",
       "      <td>436.000000</td>\n",
       "    </tr>\n",
       "    <tr>\n",
       "      <th>mean</th>\n",
       "      <td>62.100917</td>\n",
       "      <td>0.105238</td>\n",
       "      <td>0.105392</td>\n",
       "    </tr>\n",
       "    <tr>\n",
       "      <th>std</th>\n",
       "      <td>49.327327</td>\n",
       "      <td>0.122981</td>\n",
       "      <td>0.123124</td>\n",
       "    </tr>\n",
       "    <tr>\n",
       "      <th>min</th>\n",
       "      <td>5.000000</td>\n",
       "      <td>0.000000</td>\n",
       "      <td>0.000000</td>\n",
       "    </tr>\n",
       "    <tr>\n",
       "      <th>25%</th>\n",
       "      <td>25.000000</td>\n",
       "      <td>0.019810</td>\n",
       "      <td>0.019777</td>\n",
       "    </tr>\n",
       "    <tr>\n",
       "      <th>50%</th>\n",
       "      <td>49.000000</td>\n",
       "      <td>0.062482</td>\n",
       "      <td>0.062475</td>\n",
       "    </tr>\n",
       "    <tr>\n",
       "      <th>75%</th>\n",
       "      <td>85.000000</td>\n",
       "      <td>0.141153</td>\n",
       "      <td>0.141075</td>\n",
       "    </tr>\n",
       "    <tr>\n",
       "      <th>max</th>\n",
       "      <td>272.000000</td>\n",
       "      <td>1.000000</td>\n",
       "      <td>1.000000</td>\n",
       "    </tr>\n",
       "  </tbody>\n",
       "</table>\n",
       "</div>"
      ],
      "text/plain": [
       "       Casos_Dengue  Prom_Dia_Preci  Total_Preci_Sem\n",
       "count    436.000000      436.000000       436.000000\n",
       "mean      62.100917        0.105238         0.105392\n",
       "std       49.327327        0.122981         0.123124\n",
       "min        5.000000        0.000000         0.000000\n",
       "25%       25.000000        0.019810         0.019777\n",
       "50%       49.000000        0.062482         0.062475\n",
       "75%       85.000000        0.141153         0.141075\n",
       "max      272.000000        1.000000         1.000000"
      ]
     },
     "execution_count": 5,
     "metadata": {},
     "output_type": "execute_result"
    }
   ],
   "source": [
    "train.describe()"
   ]
  },
  {
   "cell_type": "code",
   "execution_count": 6,
   "id": "6cdfe596",
   "metadata": {},
   "outputs": [
    {
     "data": {
      "text/plain": [
       "0    0.071161\n",
       "1    0.116105\n",
       "2    0.097378\n",
       "3    0.108614\n",
       "4    0.104869\n",
       "Name: Casos_Dengue, dtype: float64"
      ]
     },
     "execution_count": 6,
     "metadata": {},
     "output_type": "execute_result"
    }
   ],
   "source": [
    "dengue_transformer = MinMaxScaler(feature_range=(0, 1))\n",
    "dengue_transformer = dengue_transformer.fit(train[['Casos_Dengue']])\n",
    "train['Casos_Dengue'] = dengue_transformer.transform(train[['Casos_Dengue']])\n",
    "train['Casos_Dengue'].head()"
   ]
  },
  {
   "cell_type": "code",
   "execution_count": 7,
   "id": "b1d1bc0f",
   "metadata": {},
   "outputs": [
    {
     "data": {
      "text/html": [
       "<div>\n",
       "<style scoped>\n",
       "    .dataframe tbody tr th:only-of-type {\n",
       "        vertical-align: middle;\n",
       "    }\n",
       "\n",
       "    .dataframe tbody tr th {\n",
       "        vertical-align: top;\n",
       "    }\n",
       "\n",
       "    .dataframe thead th {\n",
       "        text-align: right;\n",
       "    }\n",
       "</style>\n",
       "<table border=\"1\" class=\"dataframe\">\n",
       "  <thead>\n",
       "    <tr style=\"text-align: right;\">\n",
       "      <th></th>\n",
       "      <th>Casos_Dengue</th>\n",
       "      <th>Prom_Dia_Preci</th>\n",
       "      <th>Total_Preci_Sem</th>\n",
       "    </tr>\n",
       "  </thead>\n",
       "  <tbody>\n",
       "    <tr>\n",
       "      <th>436</th>\n",
       "      <td>42</td>\n",
       "      <td>0.022721</td>\n",
       "      <td>0.022718</td>\n",
       "    </tr>\n",
       "    <tr>\n",
       "      <th>437</th>\n",
       "      <td>53</td>\n",
       "      <td>0.173530</td>\n",
       "      <td>0.173631</td>\n",
       "    </tr>\n",
       "    <tr>\n",
       "      <th>438</th>\n",
       "      <td>49</td>\n",
       "      <td>0.048566</td>\n",
       "      <td>0.048682</td>\n",
       "    </tr>\n",
       "    <tr>\n",
       "      <th>439</th>\n",
       "      <td>34</td>\n",
       "      <td>0.028117</td>\n",
       "      <td>0.027992</td>\n",
       "    </tr>\n",
       "    <tr>\n",
       "      <th>440</th>\n",
       "      <td>40</td>\n",
       "      <td>0.111900</td>\n",
       "      <td>0.111968</td>\n",
       "    </tr>\n",
       "  </tbody>\n",
       "</table>\n",
       "</div>"
      ],
      "text/plain": [
       "     Casos_Dengue  Prom_Dia_Preci  Total_Preci_Sem\n",
       "436            42        0.022721         0.022718\n",
       "437            53        0.173530         0.173631\n",
       "438            49        0.048566         0.048682\n",
       "439            34        0.028117         0.027992\n",
       "440            40        0.111900         0.111968"
      ]
     },
     "execution_count": 7,
     "metadata": {},
     "output_type": "execute_result"
    }
   ],
   "source": [
    "test.loc[:, f_columns] = f_transformer.transform(test[f_columns].to_numpy())\n",
    "test.head()"
   ]
  },
  {
   "cell_type": "code",
   "execution_count": 8,
   "id": "65176089",
   "metadata": {},
   "outputs": [
    {
     "data": {
      "text/plain": [
       "436    0.138577\n",
       "437    0.179775\n",
       "438    0.164794\n",
       "439    0.108614\n",
       "440    0.131086\n",
       "Name: Casos_Dengue, dtype: float64"
      ]
     },
     "execution_count": 8,
     "metadata": {},
     "output_type": "execute_result"
    }
   ],
   "source": [
    "test['Casos_Dengue'] = dengue_transformer.transform(test[['Casos_Dengue']])\n",
    "test['Casos_Dengue'].head()"
   ]
  },
  {
   "cell_type": "code",
   "execution_count": 9,
   "id": "45be1466",
   "metadata": {},
   "outputs": [],
   "source": [
    "def create_dataset(X, y, time_steps):\n",
    "    Xs, ys = [], []\n",
    "    for i in range(len(X) - time_steps):\n",
    "        v = X.iloc[i:(i + time_steps)].values\n",
    "        Xs.append(v)\n",
    "        ys.append(y.iloc[i + time_steps])\n",
    "    return np.array(Xs), np.array(ys)"
   ]
  },
  {
   "cell_type": "code",
   "execution_count": 10,
   "id": "45bcc3bb",
   "metadata": {},
   "outputs": [
    {
     "name": "stdout",
     "output_type": "stream",
     "text": [
      "(426, 10, 3) (426,) (178, 10, 3) (178,)\n"
     ]
    }
   ],
   "source": [
    "time_steps = 10\n",
    "# reshape to [samples, time_steps, n_features]\n",
    "X_train, y_train = create_dataset(train, train.Casos_Dengue, time_steps)\n",
    "X_test, y_test = create_dataset(test, test.Casos_Dengue, time_steps)\n",
    "print(X_train.shape, y_train.shape, X_test.shape, y_test.shape )"
   ]
  },
  {
   "cell_type": "code",
   "execution_count": 11,
   "id": "7a54c7a4",
   "metadata": {},
   "outputs": [],
   "source": [
    "from tensorflow.keras.layers import InputLayer\n",
    "\n",
    "def Dense_model(neuronas, num_layers, activation = 'relu'):\n",
    "    \n",
    "    mlp_model = tf.keras.Sequential()\n",
    "    \n",
    "    # CAPA DE ENTRADA\n",
    "    mlp_model.add(tf.keras.layers.InputLayer(input_shape=(X_train.shape[1], X_train.shape[2])))\n",
    "    \n",
    "    \n",
    "    #CAPAS INTERMEDIAS\n",
    "    for i in range(num_layers):\n",
    "        mlp_model.add(tf.keras.layers.Dense(units=neuronas, activation=activation))\n",
    "    \n",
    "    #CAPA DE SALIDA\n",
    "    mlp_model.add(tf.keras.layers.Dense(1))\n",
    "    \n",
    "    #COMPILACIÓN DEL MODELO\n",
    "    mlp_model.compile(optimizer='adam', loss = 'mse', metrics = ['mse'])\n",
    "    \n",
    "    return mlp_model"
   ]
  },
  {
   "cell_type": "code",
   "execution_count": 12,
   "id": "8a347802",
   "metadata": {},
   "outputs": [],
   "source": [
    "#HIPERPARÁMETROS\n",
    "\n",
    "neuronas = [50, 70, 100]\n",
    "activation = ['sigmoid','relu', 'tanh']\n",
    "#init_mode = ['uniform', 'normal', 'zero']\n",
    "num_layers = [3, 5, 7]\n",
    "#dropout_rate = [0.1, 0.3, 0.5]\n",
    "\n",
    "#optimizer = ['adam', 'sgd', 'rmsprop']\n",
    "#batch_size = [40, 60, 80]\n",
    "#epochs = [10, 50, 100]\n",
    "#momentum = [0.2, 0.4, 0.5]\n",
    "\n",
    "param_grid = dict(model__neuronas=neuronas,\n",
    "                  model__num_layers=num_layers,\n",
    "                  model__activation=activation)\n",
    "                  #batch_size=batch_size,\n",
    "                  #epochs=epochs,\n",
    "                  #optimizer__momentum=momentum\n",
    "                # model__init_mode=init_mode\n",
    "                #model__dropout_rate=dropout_rate,"
   ]
  },
  {
   "cell_type": "code",
   "execution_count": 13,
   "id": "433f84e5",
   "metadata": {},
   "outputs": [],
   "source": [
    "model =  KerasRegressor(model=Dense_model, verbose=0)\n",
    "\n",
    "rs = RandomizedSearchCV(estimator=model, param_distributions=param_grid, scoring='neg_mean_squared_error',\n",
    "                        n_jobs=-1, cv=5, n_iter=20, verbose=0,random_state = 123, return_train_score = True)"
   ]
  },
  {
   "cell_type": "code",
   "execution_count": 14,
   "id": "f1d25456",
   "metadata": {},
   "outputs": [],
   "source": [
    "fitted_model = rs.fit(X_train, y_train)"
   ]
  },
  {
   "cell_type": "code",
   "execution_count": 16,
   "id": "e462f21c",
   "metadata": {},
   "outputs": [
    {
     "data": {
      "text/html": [
       "<div>\n",
       "<style scoped>\n",
       "    .dataframe tbody tr th:only-of-type {\n",
       "        vertical-align: middle;\n",
       "    }\n",
       "\n",
       "    .dataframe tbody tr th {\n",
       "        vertical-align: top;\n",
       "    }\n",
       "\n",
       "    .dataframe thead th {\n",
       "        text-align: right;\n",
       "    }\n",
       "</style>\n",
       "<table border=\"1\" class=\"dataframe\">\n",
       "  <thead>\n",
       "    <tr style=\"text-align: right;\">\n",
       "      <th></th>\n",
       "      <th>param_model__num_layers</th>\n",
       "      <th>param_model__neuronas</th>\n",
       "      <th>param_model__activation</th>\n",
       "      <th>mean_test_score</th>\n",
       "      <th>std_test_score</th>\n",
       "      <th>mean_train_score</th>\n",
       "      <th>std_train_score</th>\n",
       "    </tr>\n",
       "  </thead>\n",
       "  <tbody>\n",
       "    <tr>\n",
       "      <th>0</th>\n",
       "      <td>7</td>\n",
       "      <td>70</td>\n",
       "      <td>tanh</td>\n",
       "      <td>NaN</td>\n",
       "      <td>NaN</td>\n",
       "      <td>NaN</td>\n",
       "      <td>NaN</td>\n",
       "    </tr>\n",
       "    <tr>\n",
       "      <th>1</th>\n",
       "      <td>7</td>\n",
       "      <td>70</td>\n",
       "      <td>sigmoid</td>\n",
       "      <td>NaN</td>\n",
       "      <td>NaN</td>\n",
       "      <td>NaN</td>\n",
       "      <td>NaN</td>\n",
       "    </tr>\n",
       "    <tr>\n",
       "      <th>2</th>\n",
       "      <td>5</td>\n",
       "      <td>100</td>\n",
       "      <td>sigmoid</td>\n",
       "      <td>NaN</td>\n",
       "      <td>NaN</td>\n",
       "      <td>NaN</td>\n",
       "      <td>NaN</td>\n",
       "    </tr>\n",
       "    <tr>\n",
       "      <th>3</th>\n",
       "      <td>7</td>\n",
       "      <td>100</td>\n",
       "      <td>sigmoid</td>\n",
       "      <td>NaN</td>\n",
       "      <td>NaN</td>\n",
       "      <td>NaN</td>\n",
       "      <td>NaN</td>\n",
       "    </tr>\n",
       "    <tr>\n",
       "      <th>4</th>\n",
       "      <td>3</td>\n",
       "      <td>100</td>\n",
       "      <td>tanh</td>\n",
       "      <td>NaN</td>\n",
       "      <td>NaN</td>\n",
       "      <td>NaN</td>\n",
       "      <td>NaN</td>\n",
       "    </tr>\n",
       "    <tr>\n",
       "      <th>5</th>\n",
       "      <td>7</td>\n",
       "      <td>50</td>\n",
       "      <td>relu</td>\n",
       "      <td>NaN</td>\n",
       "      <td>NaN</td>\n",
       "      <td>NaN</td>\n",
       "      <td>NaN</td>\n",
       "    </tr>\n",
       "    <tr>\n",
       "      <th>6</th>\n",
       "      <td>3</td>\n",
       "      <td>70</td>\n",
       "      <td>tanh</td>\n",
       "      <td>NaN</td>\n",
       "      <td>NaN</td>\n",
       "      <td>NaN</td>\n",
       "      <td>NaN</td>\n",
       "    </tr>\n",
       "    <tr>\n",
       "      <th>7</th>\n",
       "      <td>7</td>\n",
       "      <td>50</td>\n",
       "      <td>tanh</td>\n",
       "      <td>NaN</td>\n",
       "      <td>NaN</td>\n",
       "      <td>NaN</td>\n",
       "      <td>NaN</td>\n",
       "    </tr>\n",
       "    <tr>\n",
       "      <th>8</th>\n",
       "      <td>3</td>\n",
       "      <td>70</td>\n",
       "      <td>relu</td>\n",
       "      <td>NaN</td>\n",
       "      <td>NaN</td>\n",
       "      <td>NaN</td>\n",
       "      <td>NaN</td>\n",
       "    </tr>\n",
       "    <tr>\n",
       "      <th>9</th>\n",
       "      <td>7</td>\n",
       "      <td>100</td>\n",
       "      <td>tanh</td>\n",
       "      <td>NaN</td>\n",
       "      <td>NaN</td>\n",
       "      <td>NaN</td>\n",
       "      <td>NaN</td>\n",
       "    </tr>\n",
       "  </tbody>\n",
       "</table>\n",
       "</div>"
      ],
      "text/plain": [
       "  param_model__num_layers param_model__neuronas param_model__activation  \\\n",
       "0                       7                    70                    tanh   \n",
       "1                       7                    70                 sigmoid   \n",
       "2                       5                   100                 sigmoid   \n",
       "3                       7                   100                 sigmoid   \n",
       "4                       3                   100                    tanh   \n",
       "5                       7                    50                    relu   \n",
       "6                       3                    70                    tanh   \n",
       "7                       7                    50                    tanh   \n",
       "8                       3                    70                    relu   \n",
       "9                       7                   100                    tanh   \n",
       "\n",
       "   mean_test_score  std_test_score  mean_train_score  std_train_score  \n",
       "0              NaN             NaN               NaN              NaN  \n",
       "1              NaN             NaN               NaN              NaN  \n",
       "2              NaN             NaN               NaN              NaN  \n",
       "3              NaN             NaN               NaN              NaN  \n",
       "4              NaN             NaN               NaN              NaN  \n",
       "5              NaN             NaN               NaN              NaN  \n",
       "6              NaN             NaN               NaN              NaN  \n",
       "7              NaN             NaN               NaN              NaN  \n",
       "8              NaN             NaN               NaN              NaN  \n",
       "9              NaN             NaN               NaN              NaN  "
      ]
     },
     "execution_count": 16,
     "metadata": {},
     "output_type": "execute_result"
    }
   ],
   "source": [
    "resultados = pd.DataFrame(fitted_model.cv_results_)\n",
    "resultados.filter(regex = '(param.*|mean_t|std_t)')\\\n",
    "    .drop(columns = 'params')\\\n",
    "    .sort_values('mean_test_score', ascending = False)\\\n",
    "    .head(10)"
   ]
  },
  {
   "cell_type": "code",
   "execution_count": 17,
   "id": "ca4d4158",
   "metadata": {},
   "outputs": [
    {
     "name": "stdout",
     "output_type": "stream",
     "text": [
      "Best: nan using {'model__num_layers': 7, 'model__neuronas': 70, 'model__activation': 'tanh'}\n"
     ]
    }
   ],
   "source": [
    "print(\"Best: %f using %s\" % (fitted_model.best_score_, fitted_model.best_params_))"
   ]
  },
  {
   "cell_type": "code",
   "execution_count": null,
   "id": "b3ef9159",
   "metadata": {},
   "outputs": [],
   "source": []
  }
 ],
 "metadata": {
  "kernelspec": {
   "display_name": "Python 3 (ipykernel)",
   "language": "python",
   "name": "python3"
  },
  "language_info": {
   "codemirror_mode": {
    "name": "ipython",
    "version": 3
   },
   "file_extension": ".py",
   "mimetype": "text/x-python",
   "name": "python",
   "nbconvert_exporter": "python",
   "pygments_lexer": "ipython3",
   "version": "3.9.12"
  }
 },
 "nbformat": 4,
 "nbformat_minor": 5
}

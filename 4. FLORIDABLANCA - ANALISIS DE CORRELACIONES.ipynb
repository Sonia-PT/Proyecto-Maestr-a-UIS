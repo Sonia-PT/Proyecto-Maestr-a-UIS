{
 "cells": [
  {
   "cell_type": "markdown",
   "id": "f5f5d32c",
   "metadata": {},
   "source": [
    "# ANÁLISIS DE CORRELACIONES"
   ]
  },
  {
   "cell_type": "code",
   "execution_count": 1,
   "id": "ed7069b9",
   "metadata": {},
   "outputs": [],
   "source": [
    "import pandas as pd\n",
    "import numpy as np\n",
    "from pandas import read_csv\n",
    "from pandas import DataFrame\n",
    "from scipy.stats import pearsonr\n",
    "import seaborn as sns"
   ]
  },
  {
   "cell_type": "markdown",
   "id": "efa22254",
   "metadata": {},
   "source": [
    "## Floridablanca"
   ]
  },
  {
   "cell_type": "code",
   "execution_count": 2,
   "id": "14f214eb",
   "metadata": {},
   "outputs": [
    {
     "data": {
      "text/plain": [
       "Municipio            0\n",
       "Año                  0\n",
       "Semana_Epi           0\n",
       "Casos_Dengue         0\n",
       "Prom_Dia_Preci       0\n",
       "Prom_Dia_Preci_1     0\n",
       "Prom_Dia_Preci_2     0\n",
       "Prom_Dia_Preci_3     0\n",
       "Prom_Dia_Preci_4     0\n",
       "Prom_Dia_Preci_5     0\n",
       "Prom_Dia_Preci_6     0\n",
       "Total_Preci_Sem      0\n",
       "Total_Preci_Sem_1    0\n",
       "Total_Preci_Sem_2    0\n",
       "Total_Preci_Sem_3    0\n",
       "Total_Preci_Sem_4    0\n",
       "Total_Preci_Sem_5    0\n",
       "Total_Preci_Sem_6    0\n",
       "dtype: int64"
      ]
     },
     "execution_count": 2,
     "metadata": {},
     "output_type": "execute_result"
    }
   ],
   "source": [
    "datos = read_csv('Floridablanca_Lags.csv', encoding='latin-1', sep=\";\")\n",
    "datos.isnull().sum()"
   ]
  },
  {
   "cell_type": "code",
   "execution_count": 3,
   "id": "11162d00",
   "metadata": {},
   "outputs": [
    {
     "data": {
      "text/html": [
       "<div>\n",
       "<style scoped>\n",
       "    .dataframe tbody tr th:only-of-type {\n",
       "        vertical-align: middle;\n",
       "    }\n",
       "\n",
       "    .dataframe tbody tr th {\n",
       "        vertical-align: top;\n",
       "    }\n",
       "\n",
       "    .dataframe thead th {\n",
       "        text-align: right;\n",
       "    }\n",
       "</style>\n",
       "<table border=\"1\" class=\"dataframe\">\n",
       "  <thead>\n",
       "    <tr style=\"text-align: right;\">\n",
       "      <th></th>\n",
       "      <th>Municipio</th>\n",
       "      <th>Año</th>\n",
       "      <th>Semana_Epi</th>\n",
       "      <th>Casos_Dengue</th>\n",
       "      <th>Prom_Dia_Preci</th>\n",
       "      <th>Prom_Dia_Preci_1</th>\n",
       "      <th>Prom_Dia_Preci_2</th>\n",
       "      <th>Prom_Dia_Preci_3</th>\n",
       "      <th>Prom_Dia_Preci_4</th>\n",
       "      <th>Prom_Dia_Preci_5</th>\n",
       "      <th>Prom_Dia_Preci_6</th>\n",
       "      <th>Total_Preci_Sem</th>\n",
       "      <th>Total_Preci_Sem_1</th>\n",
       "      <th>Total_Preci_Sem_2</th>\n",
       "      <th>Total_Preci_Sem_3</th>\n",
       "      <th>Total_Preci_Sem_4</th>\n",
       "      <th>Total_Preci_Sem_5</th>\n",
       "      <th>Total_Preci_Sem_6</th>\n",
       "    </tr>\n",
       "  </thead>\n",
       "  <tbody>\n",
       "    <tr>\n",
       "      <th>0</th>\n",
       "      <td>Floridablanca</td>\n",
       "      <td>2008</td>\n",
       "      <td>1</td>\n",
       "      <td>9</td>\n",
       "      <td>0.06</td>\n",
       "      <td>1.99</td>\n",
       "      <td>0.61</td>\n",
       "      <td>1.64</td>\n",
       "      <td>1.21</td>\n",
       "      <td>0.07</td>\n",
       "      <td>2.79</td>\n",
       "      <td>0.4</td>\n",
       "      <td>15.9</td>\n",
       "      <td>4.3</td>\n",
       "      <td>11.5</td>\n",
       "      <td>8.5</td>\n",
       "      <td>0.5</td>\n",
       "      <td>19.5</td>\n",
       "    </tr>\n",
       "    <tr>\n",
       "      <th>1</th>\n",
       "      <td>Floridablanca</td>\n",
       "      <td>2008</td>\n",
       "      <td>2</td>\n",
       "      <td>9</td>\n",
       "      <td>9.51</td>\n",
       "      <td>0.06</td>\n",
       "      <td>1.99</td>\n",
       "      <td>0.61</td>\n",
       "      <td>1.64</td>\n",
       "      <td>1.21</td>\n",
       "      <td>0.07</td>\n",
       "      <td>66.6</td>\n",
       "      <td>0.4</td>\n",
       "      <td>15.9</td>\n",
       "      <td>4.3</td>\n",
       "      <td>11.5</td>\n",
       "      <td>8.5</td>\n",
       "      <td>0.5</td>\n",
       "    </tr>\n",
       "    <tr>\n",
       "      <th>2</th>\n",
       "      <td>Floridablanca</td>\n",
       "      <td>2008</td>\n",
       "      <td>3</td>\n",
       "      <td>16</td>\n",
       "      <td>1.16</td>\n",
       "      <td>9.51</td>\n",
       "      <td>0.06</td>\n",
       "      <td>1.99</td>\n",
       "      <td>0.61</td>\n",
       "      <td>1.64</td>\n",
       "      <td>1.21</td>\n",
       "      <td>8.1</td>\n",
       "      <td>66.6</td>\n",
       "      <td>0.4</td>\n",
       "      <td>15.9</td>\n",
       "      <td>4.3</td>\n",
       "      <td>11.5</td>\n",
       "      <td>8.5</td>\n",
       "    </tr>\n",
       "  </tbody>\n",
       "</table>\n",
       "</div>"
      ],
      "text/plain": [
       "       Municipio   Año  Semana_Epi  Casos_Dengue  Prom_Dia_Preci  \\\n",
       "0  Floridablanca  2008           1             9            0.06   \n",
       "1  Floridablanca  2008           2             9            9.51   \n",
       "2  Floridablanca  2008           3            16            1.16   \n",
       "\n",
       "   Prom_Dia_Preci_1  Prom_Dia_Preci_2  Prom_Dia_Preci_3  Prom_Dia_Preci_4  \\\n",
       "0              1.99              0.61              1.64              1.21   \n",
       "1              0.06              1.99              0.61              1.64   \n",
       "2              9.51              0.06              1.99              0.61   \n",
       "\n",
       "   Prom_Dia_Preci_5  Prom_Dia_Preci_6  Total_Preci_Sem  Total_Preci_Sem_1  \\\n",
       "0              0.07              2.79              0.4               15.9   \n",
       "1              1.21              0.07             66.6                0.4   \n",
       "2              1.64              1.21              8.1               66.6   \n",
       "\n",
       "   Total_Preci_Sem_2  Total_Preci_Sem_3  Total_Preci_Sem_4  Total_Preci_Sem_5  \\\n",
       "0                4.3               11.5                8.5                0.5   \n",
       "1               15.9                4.3               11.5                8.5   \n",
       "2                0.4               15.9                4.3               11.5   \n",
       "\n",
       "   Total_Preci_Sem_6  \n",
       "0               19.5  \n",
       "1                0.5  \n",
       "2                8.5  "
      ]
     },
     "execution_count": 3,
     "metadata": {},
     "output_type": "execute_result"
    }
   ],
   "source": [
    "datos.head(3)"
   ]
  },
  {
   "cell_type": "code",
   "execution_count": 4,
   "id": "5032e76a",
   "metadata": {},
   "outputs": [
    {
     "data": {
      "text/plain": [
       "Index(['Municipio', 'Año', 'Semana_Epi', 'Casos_Dengue', 'Prom_Dia_Preci',\n",
       "       'Prom_Dia_Preci_1', 'Prom_Dia_Preci_2', 'Prom_Dia_Preci_3',\n",
       "       'Prom_Dia_Preci_4', 'Prom_Dia_Preci_5', 'Prom_Dia_Preci_6',\n",
       "       'Total_Preci_Sem', 'Total_Preci_Sem_1', 'Total_Preci_Sem_2',\n",
       "       'Total_Preci_Sem_3', 'Total_Preci_Sem_4', 'Total_Preci_Sem_5',\n",
       "       'Total_Preci_Sem_6'],\n",
       "      dtype='object')"
      ]
     },
     "execution_count": 4,
     "metadata": {},
     "output_type": "execute_result"
    }
   ],
   "source": [
    "datos.columns"
   ]
  },
  {
   "cell_type": "code",
   "execution_count": 5,
   "id": "dadc93fa",
   "metadata": {},
   "outputs": [],
   "source": [
    "zero_feat=['Prom_Dia_Preci',\n",
    "       'Prom_Dia_Preci_1', 'Prom_Dia_Preci_2', 'Prom_Dia_Preci_3',\n",
    "       'Prom_Dia_Preci_4', 'Prom_Dia_Preci_5', 'Prom_Dia_Preci_6',\n",
    "       'Total_Preci_Sem', 'Total_Preci_Sem_1', 'Total_Preci_Sem_2',\n",
    "       'Total_Preci_Sem_3', 'Total_Preci_Sem_4', 'Total_Preci_Sem_5',\n",
    "       'Total_Preci_Sem_6']\n",
    "out_feat=['Casos_Dengue']"
   ]
  },
  {
   "cell_type": "code",
   "execution_count": 6,
   "id": "1b849189",
   "metadata": {
    "scrolled": false
   },
   "outputs": [
    {
     "name": "stdout",
     "output_type": "stream",
     "text": [
      "La Correlación de Prom_Dia_Preci Con Casos_Dengue es -0.06314358845460925\n",
      "------------------------------------------------------------\n",
      "La Correlación de Prom_Dia_Preci_1 Con Casos_Dengue es -0.07090760616304885\n",
      "------------------------------------------------------------\n",
      "La Correlación de Prom_Dia_Preci_2 Con Casos_Dengue es -0.061136220977954125\n",
      "------------------------------------------------------------\n",
      "La Correlación de Prom_Dia_Preci_3 Con Casos_Dengue es -0.0720960100331147\n",
      "------------------------------------------------------------\n",
      "La Correlación de Prom_Dia_Preci_4 Con Casos_Dengue es -0.06443190964466622\n",
      "------------------------------------------------------------\n",
      "La Correlación de Prom_Dia_Preci_5 Con Casos_Dengue es -0.07891944666954696\n",
      "------------------------------------------------------------\n",
      "La Correlación de Prom_Dia_Preci_6 Con Casos_Dengue es -0.09219323112407013\n",
      "------------------------------------------------------------\n",
      "La Correlación de Total_Preci_Sem Con Casos_Dengue es -0.06388012950947491\n",
      "------------------------------------------------------------\n",
      "La Correlación de Total_Preci_Sem_1 Con Casos_Dengue es -0.07168391199153831\n",
      "------------------------------------------------------------\n",
      "La Correlación de Total_Preci_Sem_2 Con Casos_Dengue es -0.06170579810538423\n",
      "------------------------------------------------------------\n",
      "La Correlación de Total_Preci_Sem_3 Con Casos_Dengue es -0.07278265956043861\n",
      "------------------------------------------------------------\n",
      "La Correlación de Total_Preci_Sem_4 Con Casos_Dengue es -0.0649170196987667\n",
      "------------------------------------------------------------\n",
      "La Correlación de Total_Preci_Sem_5 Con Casos_Dengue es -0.07953099809273714\n",
      "------------------------------------------------------------\n",
      "La Correlación de Total_Preci_Sem_6 Con Casos_Dengue es -0.09262627826686252\n",
      "------------------------------------------------------------\n"
     ]
    }
   ],
   "source": [
    "from scipy.stats import pearsonr\n",
    "for i in zero_feat:\n",
    "    for j in out_feat:   \n",
    "        corr, _ = pearsonr(datos[i], datos[j])\n",
    "        print('La Correlación de {0} Con {1} es {2}'.format(i,j,corr))\n",
    "    print('-'*60)"
   ]
  },
  {
   "cell_type": "code",
   "execution_count": 7,
   "id": "44f0e1c7",
   "metadata": {},
   "outputs": [
    {
     "name": "stdout",
     "output_type": "stream",
     "text": [
      "Casos_Dengue         1.000000\n",
      "Prom_Dia_Preci_2    -0.061136\n",
      "Total_Preci_Sem_2   -0.061706\n",
      "Prom_Dia_Preci      -0.063144\n",
      "Total_Preci_Sem     -0.063880\n",
      "Prom_Dia_Preci_4    -0.064432\n",
      "Total_Preci_Sem_4   -0.064917\n",
      "Prom_Dia_Preci_1    -0.070908\n",
      "Total_Preci_Sem_1   -0.071684\n",
      "Prom_Dia_Preci_3    -0.072096\n",
      "Total_Preci_Sem_3   -0.072783\n",
      "Semana_Epi          -0.075163\n",
      "Prom_Dia_Preci_5    -0.078919\n",
      "Total_Preci_Sem_5   -0.079531\n",
      "Prom_Dia_Preci_6    -0.092193\n",
      "Total_Preci_Sem_6   -0.092626\n",
      "Año                 -0.194540\n"
     ]
    }
   ],
   "source": [
    "# Find the correlations between the energy price and the rest of the features\n",
    "\n",
    "correlaciones = datos.corr(method='pearson')\n",
    "print(correlaciones['Casos_Dengue'].sort_values(ascending=False).to_string())"
   ]
  }
 ],
 "metadata": {
  "kernelspec": {
   "display_name": "Python 3 (ipykernel)",
   "language": "python",
   "name": "python3"
  },
  "language_info": {
   "codemirror_mode": {
    "name": "ipython",
    "version": 3
   },
   "file_extension": ".py",
   "mimetype": "text/x-python",
   "name": "python",
   "nbconvert_exporter": "python",
   "pygments_lexer": "ipython3",
   "version": "3.9.12"
  }
 },
 "nbformat": 4,
 "nbformat_minor": 5
}

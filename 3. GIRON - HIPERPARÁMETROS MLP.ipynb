{
 "cells": [
  {
   "cell_type": "code",
   "execution_count": 1,
   "id": "a80016bd",
   "metadata": {},
   "outputs": [],
   "source": [
    "import pandas as pd\n",
    "import numpy as np\n",
    "from numpy import concatenate\n",
    "from pandas import concat\n",
    "from pandas import read_csv\n",
    "from pandas import DataFrame\n",
    "import tensorflow as tf\n",
    "from tensorflow import keras\n",
    "import os\n",
    "import datetime\n",
    "import IPython\n",
    "import IPython.display\n",
    "import plotly.express as px # to plot the time series plot\n",
    "from sklearn import metrics # for the evaluation\n",
    "from sklearn.preprocessing import MinMaxScaler\n",
    "from sklearn.impute import KNNImputer\n",
    "from sklearn.model_selection import train_test_split\n",
    "from sklearn.metrics import mean_absolute_error, mean_squared_error, r2_score\n",
    "from sklearn.metrics import explained_variance_score, mean_absolute_percentage_error\n",
    "from tensorflow.keras.models import Sequential\n",
    "from tensorflow.keras.layers import Activation,Flatten, LSTM, Dense, Dropout, TimeDistributed, Conv1D, MaxPooling1D\n",
    "from tensorflow.keras.layers import Bidirectional, Input, Reshape, RepeatVector, Concatenate\n",
    "from tensorflow.keras.callbacks import EarlyStopping, ReduceLROnPlateau, ModelCheckpoint\n",
    "from tensorflow.keras.models import Model\n",
    "from tensorflow.keras.utils import plot_model\n",
    "from sklearn.model_selection import RandomizedSearchCV\n",
    "import matplotlib.pyplot as plt\n",
    "import matplotlib.patches as mpatches\n",
    "import matplotlib as mpl\n",
    "%matplotlib inline\n",
    "from scipy.stats import randint as sp_randint\n",
    "np.random.seed(123) # for reproducibility\n",
    "import warnings\n",
    "warnings.filterwarnings('ignore')\n",
    "import tensorflow as tf\n",
    "from tensorflow import keras\n",
    "from scikeras.wrappers import KerasClassifier, KerasRegressor\n",
    "import keras_tuner"
   ]
  },
  {
   "cell_type": "code",
   "execution_count": 2,
   "id": "44eb1aee",
   "metadata": {},
   "outputs": [
    {
     "data": {
      "text/plain": [
       "Index(['Municipio', 'Año', 'Semana_Epi', 'Casos_Dengue',\n",
       "       'Temp_Seca_Max_Dia_Prom', 'Temp_Seca_Max_Dia_Prom_1',\n",
       "       'Temp_Seca_Max_Dia_Prom_2', 'Temp_Seca_Max_Dia_Prom_3',\n",
       "       'Temp_Seca_Max_Dia_Prom_4', 'Temp_Seca_Max_Dia_Prom_5',\n",
       "       'Temp_Seca_Max_Dia_Prom_6', 'Temp_Seca_Max_Sem', 'Temp_Seca_Max_Sem_1',\n",
       "       'Temp_Seca_Max_Sem_2', 'Temp_Seca_Max_Sem_3', 'Temp_Seca_Max_Sem_4',\n",
       "       'Temp_Seca_Max_Sem_5', 'Temp_Seca_Max_Sem_6', 'Temp_Seca_Min_Dia_Prom',\n",
       "       'Temp_Seca_Min_Dia_Prom_1', 'Temp_Seca_Min_Dia_Prom_2',\n",
       "       'Temp_Seca_Min_Dia_Prom_3', 'Temp_Seca_Min_Dia_Prom_4',\n",
       "       'Temp_Seca_Min_Dia_Prom_5', 'Temp_Seca_Min_Dia_Prom_6',\n",
       "       'Temp_Seca_Min_Sem', 'Temp_Seca_Min_Sem_1', 'Temp_Seca_Min_Sem_2',\n",
       "       'Temp_Seca_Min_Sem_3', 'Temp_Seca_Min_Sem_4', 'Temp_Seca_Min_Sem_5',\n",
       "       'Temp_Seca_Min_Sem_6', 'Prom_Dia_Preci', 'Prom_Dia_Preci_1',\n",
       "       'Prom_Dia_Preci_2', 'Prom_Dia_Preci_3', 'Prom_Dia_Preci_4',\n",
       "       'Prom_Dia_Preci_5', 'Prom_Dia_Preci_6', 'Total_Preci_Sem',\n",
       "       'Total_Preci_Sem_1', 'Total_Preci_Sem_2', 'Total_Preci_Sem_3',\n",
       "       'Total_Preci_Sem_4', 'Total_Preci_Sem_5', 'Total_Preci_Sem_6',\n",
       "       'Temp_Max_Dia_Prom', 'Temp_Max_Dia_Prom_1', 'Temp_Max_Dia_Prom_2',\n",
       "       'Temp_Max_Dia_Prom_3', 'Temp_Max_Dia_Prom_4', 'Temp_Max_Dia_Prom_5',\n",
       "       'Temp_Max_Dia_Prom_6', 'Temp_Max_Sem', 'Temp_Max_Sem_1',\n",
       "       'Temp_Max_Sem_2', 'Temp_Max_Sem_3', 'Temp_Max_Sem_4', 'Temp_Max_Sem_5',\n",
       "       'Temp_Max_Sem_6', 'Temp_Min_Dia_Prom', 'Temp_Min_Dia_Prom_1',\n",
       "       'Temp_Min_Dia_Prom_2', 'Temp_Min_Dia_Prom_3', 'Temp_Min_Dia_Prom_4',\n",
       "       'Temp_Min_Dia_Prom_5', 'Temp_Min_Dia_Prom_6', 'Temp_Min_Sem',\n",
       "       'Temp_Min_Sem_1', 'Temp_Min_Sem_2', 'Temp_Min_Sem_3', 'Temp_Min_Sem_4',\n",
       "       'Temp_Min_Sem_5', 'Temp_Min_Sem_6', 'Hum_Rel_Max', 'Hum_Rel_Max_1',\n",
       "       'Hum_Rel_Max_2', 'Hum_Rel_Max_3', 'Hum_Rel_Max_4', 'Hum_Rel_Max_5',\n",
       "       'Hum_Rel_Max_6', 'Hum_Rel_Min', 'Hum_Rel_Min_1', 'Hum_Rel_Min_2',\n",
       "       'Hum_Rel_Min_3', 'Hum_Rel_Min_4', 'Hum_Rel_Min_5', 'Hum_Rel_Min_6'],\n",
       "      dtype='object')"
      ]
     },
     "execution_count": 2,
     "metadata": {},
     "output_type": "execute_result"
    }
   ],
   "source": [
    "# CARGAR LA BASE DE DATOS\n",
    "from pandas import read_csv\n",
    "datos = read_csv('Giron_Lags.csv', encoding='latin-1', sep=\";\")\n",
    "# Dropping the id and date columns\n",
    "datos.columns"
   ]
  },
  {
   "cell_type": "code",
   "execution_count": 3,
   "id": "586c4436",
   "metadata": {},
   "outputs": [
    {
     "data": {
      "text/plain": [
       "Index(['Casos_Dengue', 'Temp_Seca_Max_Dia_Prom', 'Temp_Seca_Max_Sem',\n",
       "       'Temp_Seca_Min_Dia_Prom', 'Temp_Seca_Min_Sem', 'Prom_Dia_Preci',\n",
       "       'Total_Preci_Sem', 'Temp_Max_Dia_Prom', 'Temp_Max_Sem',\n",
       "       'Temp_Min_Dia_Prom', 'Temp_Min_Sem', 'Hum_Rel_Max', 'Hum_Rel_Min'],\n",
       "      dtype='object')"
      ]
     },
     "execution_count": 3,
     "metadata": {},
     "output_type": "execute_result"
    }
   ],
   "source": [
    "datos = datos.drop(['Municipio', 'Año', 'Semana_Epi', 'Temp_Seca_Max_Dia_Prom_1',\n",
    "       'Temp_Seca_Max_Dia_Prom_2','Temp_Seca_Max_Dia_Prom_3','Temp_Seca_Max_Dia_Prom_4', \n",
    "       'Temp_Seca_Max_Dia_Prom_5','Temp_Seca_Max_Dia_Prom_6', 'Temp_Seca_Max_Sem_1',\n",
    "       'Temp_Seca_Max_Sem_2', 'Temp_Seca_Max_Sem_3', 'Temp_Seca_Max_Sem_4',\n",
    "       'Temp_Seca_Max_Sem_5', 'Temp_Seca_Max_Sem_6','Temp_Seca_Min_Dia_Prom_1',\n",
    "       'Temp_Seca_Min_Dia_Prom_2','Temp_Seca_Min_Dia_Prom_3', 'Temp_Seca_Min_Dia_Prom_4',\n",
    "       'Temp_Seca_Min_Dia_Prom_5', 'Temp_Seca_Min_Dia_Prom_6','Temp_Seca_Min_Sem_1',\n",
    "       'Temp_Seca_Min_Sem_2','Temp_Seca_Min_Sem_3', 'Temp_Seca_Min_Sem_4', \n",
    "       'Temp_Seca_Min_Sem_5','Temp_Seca_Min_Sem_6','Prom_Dia_Preci_1',\n",
    "       'Prom_Dia_Preci_2', 'Prom_Dia_Preci_3', 'Prom_Dia_Preci_4',\n",
    "       'Prom_Dia_Preci_5', 'Prom_Dia_Preci_6','Total_Preci_Sem_1',\n",
    "       'Total_Preci_Sem_2', 'Total_Preci_Sem_3','Total_Preci_Sem_4',\n",
    "       'Total_Preci_Sem_5', 'Total_Preci_Sem_6','Temp_Max_Dia_Prom_1',\n",
    "       'Temp_Max_Dia_Prom_2','Temp_Max_Dia_Prom_3', 'Temp_Max_Dia_Prom_4',\n",
    "       'Temp_Max_Dia_Prom_5','Temp_Max_Dia_Prom_6','Temp_Max_Sem_1','Temp_Max_Sem_2',\n",
    "       'Temp_Max_Sem_3', 'Temp_Max_Sem_4', 'Temp_Max_Sem_5','Temp_Max_Sem_6',\n",
    "       'Temp_Min_Dia_Prom_1','Temp_Min_Dia_Prom_2', 'Temp_Min_Dia_Prom_3',\n",
    "       'Temp_Min_Dia_Prom_4','Temp_Min_Dia_Prom_5', 'Temp_Min_Dia_Prom_6',\n",
    "       'Temp_Min_Sem_1', 'Temp_Min_Sem_2', 'Temp_Min_Sem_3', 'Temp_Min_Sem_4',\n",
    "       'Temp_Min_Sem_5', 'Temp_Min_Sem_6','Hum_Rel_Max_1','Hum_Rel_Max_2',\n",
    "       'Hum_Rel_Max_3', 'Hum_Rel_Max_4', 'Hum_Rel_Max_5','Hum_Rel_Max_6',\n",
    "       'Hum_Rel_Min_1', 'Hum_Rel_Min_2','Hum_Rel_Min_3', 'Hum_Rel_Min_4',\n",
    "       'Hum_Rel_Min_5', 'Hum_Rel_Min_6'],axis=1)\n",
    "datos.columns"
   ]
  },
  {
   "cell_type": "code",
   "execution_count": 4,
   "id": "ab56b010",
   "metadata": {},
   "outputs": [
    {
     "data": {
      "text/plain": [
       "(364, 13)"
      ]
     },
     "execution_count": 4,
     "metadata": {},
     "output_type": "execute_result"
    }
   ],
   "source": [
    "from sklearn.impute import KNNImputer\n",
    "knnImputer = KNNImputer (missing_values=np.nan, n_neighbors=2, \n",
    "                         weights=\"uniform\", metric=\"nan_euclidean\")\n",
    "# Ajustamos el modelo e imputamos los missing values\n",
    "\n",
    "knnImputer.fit(datos[['Temp_Seca_Max_Dia_Prom']])\n",
    "datos['Temp_Seca_Max_Dia_Prom'] = knnImputer.transform(datos[['Temp_Seca_Max_Dia_Prom']]).ravel()\n",
    "knnImputer.fit(datos[['Temp_Seca_Max_Sem']])\n",
    "datos['Temp_Seca_Max_Sem'] = knnImputer.transform(datos[['Temp_Seca_Max_Sem']]).ravel()\n",
    "knnImputer.fit(datos[['Temp_Seca_Min_Dia_Prom']])\n",
    "datos['Temp_Seca_Min_Dia_Prom'] = knnImputer.transform(datos[['Temp_Seca_Min_Dia_Prom']]).ravel()\n",
    "knnImputer.fit(datos[['Temp_Seca_Min_Sem']])\n",
    "datos['Temp_Seca_Min_Sem'] = knnImputer.transform(datos[['Temp_Seca_Min_Sem']]).ravel()\n",
    "knnImputer.fit(datos[['Prom_Dia_Preci']])\n",
    "datos['Prom_Dia_Preci'] = knnImputer.transform(datos[['Prom_Dia_Preci']]).ravel()\n",
    "knnImputer.fit(datos[['Total_Preci_Sem']])\n",
    "datos['Total_Preci_Sem'] = knnImputer.transform(datos[['Total_Preci_Sem']]).ravel()\n",
    "knnImputer.fit(datos[['Temp_Max_Dia_Prom']])\n",
    "datos['Temp_Max_Dia_Prom'] = knnImputer.transform(datos[['Temp_Max_Dia_Prom']]).ravel()\n",
    "knnImputer.fit(datos[['Temp_Max_Sem']])\n",
    "datos['Temp_Max_Sem'] = knnImputer.transform(datos[['Temp_Max_Sem']]).ravel()\n",
    "knnImputer.fit(datos[['Temp_Min_Dia_Prom']])\n",
    "datos['Temp_Min_Dia_Prom'] = knnImputer.transform(datos[['Temp_Min_Dia_Prom']]).ravel()\n",
    "knnImputer.fit(datos[['Temp_Min_Sem']])\n",
    "datos['Temp_Min_Sem'] = knnImputer.transform(datos[['Temp_Min_Sem']]).ravel()\n",
    "knnImputer.fit(datos[['Hum_Rel_Max']])\n",
    "datos['Hum_Rel_Max'] = knnImputer.transform(datos[['Hum_Rel_Max']]).ravel()\n",
    "knnImputer.fit(datos[['Hum_Rel_Min']])\n",
    "datos['Hum_Rel_Min'] = knnImputer.transform(datos[['Hum_Rel_Min']]).ravel()\n",
    "\n",
    "\n",
    "datos.shape"
   ]
  },
  {
   "cell_type": "code",
   "execution_count": 5,
   "id": "906ce1f4",
   "metadata": {},
   "outputs": [
    {
     "name": "stdout",
     "output_type": "stream",
     "text": [
      "291 73\n"
     ]
    }
   ],
   "source": [
    "train_size = int(len(datos) * 0.8)\n",
    "test_size = len(datos) - train_size\n",
    "train, test = datos.iloc[0:train_size], datos.iloc[train_size:len(datos)]\n",
    "print(len(train), len(test))"
   ]
  },
  {
   "cell_type": "code",
   "execution_count": 6,
   "id": "96635c52",
   "metadata": {},
   "outputs": [],
   "source": [
    "f_columns = ['Temp_Seca_Max_Dia_Prom', 'Temp_Seca_Max_Sem', 'Temp_Seca_Min_Dia_Prom', 'Temp_Seca_Min_Sem', 'Prom_Dia_Preci',\n",
    "             'Total_Preci_Sem', 'Temp_Max_Dia_Prom', 'Temp_Max_Sem',\n",
    "             'Temp_Min_Dia_Prom', 'Temp_Min_Sem', 'Hum_Rel_Max', 'Hum_Rel_Min']\n",
    "f_transformer = MinMaxScaler(feature_range=(0, 1))\n",
    "f_transformer = f_transformer.fit(train[f_columns].to_numpy())\n",
    "train.loc[:, f_columns] = f_transformer.transform(train[f_columns].to_numpy())\n",
    "test.loc[:, f_columns] = f_transformer.transform(test[f_columns].to_numpy())"
   ]
  },
  {
   "cell_type": "code",
   "execution_count": 7,
   "id": "096786ed",
   "metadata": {},
   "outputs": [],
   "source": [
    "dengue_transformer = MinMaxScaler(feature_range=(0, 1))\n",
    "dengue_transformer = dengue_transformer.fit(train[['Casos_Dengue']])\n",
    "train['Casos_Dengue'] = dengue_transformer.transform(train[['Casos_Dengue']])\n",
    "test['Casos_Dengue'] = dengue_transformer.transform(test[['Casos_Dengue']])"
   ]
  },
  {
   "cell_type": "code",
   "execution_count": 8,
   "id": "eaca2ae8",
   "metadata": {},
   "outputs": [],
   "source": [
    "def create_dataset(X, y, time_steps=1):\n",
    "    Xs, ys = [], []\n",
    "    for i in range(len(X) - time_steps):\n",
    "        v = X.iloc[i:(i + time_steps)].values\n",
    "        Xs.append(v)\n",
    "        ys.append(y.iloc[i + time_steps])\n",
    "    return np.array(Xs), np.array(ys)"
   ]
  },
  {
   "cell_type": "code",
   "execution_count": 9,
   "id": "e3a43b30",
   "metadata": {},
   "outputs": [
    {
     "name": "stdout",
     "output_type": "stream",
     "text": [
      "(284, 7, 13) (284,) (66, 7, 13) (66,)\n"
     ]
    }
   ],
   "source": [
    "time_steps = 7\n",
    "# reshape to [samples, time_steps, n_features]\n",
    "X_train, y_train = create_dataset(train, train.Casos_Dengue, time_steps)\n",
    "X_test, y_test = create_dataset(test, test.Casos_Dengue, time_steps)\n",
    "print(X_train.shape, y_train.shape, X_test.shape, y_test.shape )"
   ]
  },
  {
   "cell_type": "code",
   "execution_count": 10,
   "id": "e1bcad33",
   "metadata": {},
   "outputs": [],
   "source": [
    "from tensorflow.keras.layers import InputLayer\n",
    "\n",
    "def Dense_model(neuronas, num_layers, activation = 'relu'):\n",
    "    \n",
    "    mlp_model = tf.keras.Sequential()\n",
    "    \n",
    "    # CAPA DE ENTRADA\n",
    "    mlp_model.add(tf.keras.layers.InputLayer(input_shape=(X_train.shape[1], X_train.shape[2])))\n",
    "    \n",
    "    \n",
    "    #CAPAS INTERMEDIAS\n",
    "    for i in range(num_layers):\n",
    "        mlp_model.add(tf.keras.layers.Dense(units=neuronas, activation=activation))\n",
    "    \n",
    "    #CAPA DE SALIDA\n",
    "    mlp_model.add(tf.keras.layers.Dense(1))\n",
    "    \n",
    "    #COMPILACIÓN DEL MODELO\n",
    "    mlp_model.compile(optimizer='adam', loss = 'mse', metrics = ['mse'])\n",
    "    \n",
    "    return mlp_model"
   ]
  },
  {
   "cell_type": "code",
   "execution_count": 11,
   "id": "aa7c226d",
   "metadata": {},
   "outputs": [],
   "source": [
    "#HIPERPARÁMETROS\n",
    "\n",
    "neuronas = [50, 70, 100]\n",
    "activation = ['sigmoid','relu', 'tanh']\n",
    "#init_mode = ['uniform', 'normal', 'zero']\n",
    "num_layers = [3, 5, 7]\n",
    "#dropout_rate = [0.1, 0.3, 0.5]\n",
    "\n",
    "#optimizer = ['adam', 'sgd', 'rmsprop']\n",
    "#batch_size = [40, 60, 80]\n",
    "#epochs = [10, 50, 100]\n",
    "#momentum = [0.2, 0.4, 0.5]\n",
    "\n",
    "param_grid = dict(model__neuronas=neuronas,\n",
    "                  model__num_layers=num_layers,\n",
    "                  model__activation=activation)\n",
    "                  #batch_size=batch_size,\n",
    "                  #epochs=epochs,\n",
    "                  #optimizer__momentum=momentum\n",
    "                # model__init_mode=init_mode\n",
    "                #model__dropout_rate=dropout_rate,"
   ]
  },
  {
   "cell_type": "code",
   "execution_count": 12,
   "id": "62191862",
   "metadata": {},
   "outputs": [],
   "source": [
    "from sklearn.model_selection import KFold\n",
    "from sklearn.metrics import make_scorer\n",
    "\n",
    "model =  KerasRegressor(model=Dense_model, verbose=0)\n",
    "\n",
    "rs = RandomizedSearchCV(estimator=model, param_distributions=param_grid, scoring='neg_mean_squared_error',\n",
    "                        n_jobs=-1, cv=5, n_iter=20, verbose=0,random_state = 123, return_train_score = True)"
   ]
  },
  {
   "cell_type": "code",
   "execution_count": 13,
   "id": "66c97081",
   "metadata": {},
   "outputs": [],
   "source": [
    "fitted_model = rs.fit(X_train, y_train)"
   ]
  },
  {
   "cell_type": "code",
   "execution_count": 14,
   "id": "520ce315",
   "metadata": {},
   "outputs": [
    {
     "data": {
      "text/html": [
       "<div>\n",
       "<style scoped>\n",
       "    .dataframe tbody tr th:only-of-type {\n",
       "        vertical-align: middle;\n",
       "    }\n",
       "\n",
       "    .dataframe tbody tr th {\n",
       "        vertical-align: top;\n",
       "    }\n",
       "\n",
       "    .dataframe thead th {\n",
       "        text-align: right;\n",
       "    }\n",
       "</style>\n",
       "<table border=\"1\" class=\"dataframe\">\n",
       "  <thead>\n",
       "    <tr style=\"text-align: right;\">\n",
       "      <th></th>\n",
       "      <th>param_model__num_layers</th>\n",
       "      <th>param_model__neuronas</th>\n",
       "      <th>param_model__activation</th>\n",
       "      <th>mean_test_score</th>\n",
       "      <th>std_test_score</th>\n",
       "      <th>mean_train_score</th>\n",
       "      <th>std_train_score</th>\n",
       "    </tr>\n",
       "  </thead>\n",
       "  <tbody>\n",
       "    <tr>\n",
       "      <th>0</th>\n",
       "      <td>7</td>\n",
       "      <td>70</td>\n",
       "      <td>tanh</td>\n",
       "      <td>NaN</td>\n",
       "      <td>NaN</td>\n",
       "      <td>NaN</td>\n",
       "      <td>NaN</td>\n",
       "    </tr>\n",
       "    <tr>\n",
       "      <th>1</th>\n",
       "      <td>7</td>\n",
       "      <td>70</td>\n",
       "      <td>sigmoid</td>\n",
       "      <td>NaN</td>\n",
       "      <td>NaN</td>\n",
       "      <td>NaN</td>\n",
       "      <td>NaN</td>\n",
       "    </tr>\n",
       "    <tr>\n",
       "      <th>2</th>\n",
       "      <td>5</td>\n",
       "      <td>100</td>\n",
       "      <td>sigmoid</td>\n",
       "      <td>NaN</td>\n",
       "      <td>NaN</td>\n",
       "      <td>NaN</td>\n",
       "      <td>NaN</td>\n",
       "    </tr>\n",
       "    <tr>\n",
       "      <th>3</th>\n",
       "      <td>7</td>\n",
       "      <td>100</td>\n",
       "      <td>sigmoid</td>\n",
       "      <td>NaN</td>\n",
       "      <td>NaN</td>\n",
       "      <td>NaN</td>\n",
       "      <td>NaN</td>\n",
       "    </tr>\n",
       "    <tr>\n",
       "      <th>4</th>\n",
       "      <td>3</td>\n",
       "      <td>100</td>\n",
       "      <td>tanh</td>\n",
       "      <td>NaN</td>\n",
       "      <td>NaN</td>\n",
       "      <td>NaN</td>\n",
       "      <td>NaN</td>\n",
       "    </tr>\n",
       "    <tr>\n",
       "      <th>5</th>\n",
       "      <td>7</td>\n",
       "      <td>50</td>\n",
       "      <td>relu</td>\n",
       "      <td>NaN</td>\n",
       "      <td>NaN</td>\n",
       "      <td>NaN</td>\n",
       "      <td>NaN</td>\n",
       "    </tr>\n",
       "    <tr>\n",
       "      <th>6</th>\n",
       "      <td>3</td>\n",
       "      <td>70</td>\n",
       "      <td>tanh</td>\n",
       "      <td>NaN</td>\n",
       "      <td>NaN</td>\n",
       "      <td>NaN</td>\n",
       "      <td>NaN</td>\n",
       "    </tr>\n",
       "    <tr>\n",
       "      <th>7</th>\n",
       "      <td>7</td>\n",
       "      <td>50</td>\n",
       "      <td>tanh</td>\n",
       "      <td>NaN</td>\n",
       "      <td>NaN</td>\n",
       "      <td>NaN</td>\n",
       "      <td>NaN</td>\n",
       "    </tr>\n",
       "    <tr>\n",
       "      <th>8</th>\n",
       "      <td>3</td>\n",
       "      <td>70</td>\n",
       "      <td>relu</td>\n",
       "      <td>NaN</td>\n",
       "      <td>NaN</td>\n",
       "      <td>NaN</td>\n",
       "      <td>NaN</td>\n",
       "    </tr>\n",
       "    <tr>\n",
       "      <th>9</th>\n",
       "      <td>7</td>\n",
       "      <td>100</td>\n",
       "      <td>tanh</td>\n",
       "      <td>NaN</td>\n",
       "      <td>NaN</td>\n",
       "      <td>NaN</td>\n",
       "      <td>NaN</td>\n",
       "    </tr>\n",
       "  </tbody>\n",
       "</table>\n",
       "</div>"
      ],
      "text/plain": [
       "  param_model__num_layers param_model__neuronas param_model__activation  \\\n",
       "0                       7                    70                    tanh   \n",
       "1                       7                    70                 sigmoid   \n",
       "2                       5                   100                 sigmoid   \n",
       "3                       7                   100                 sigmoid   \n",
       "4                       3                   100                    tanh   \n",
       "5                       7                    50                    relu   \n",
       "6                       3                    70                    tanh   \n",
       "7                       7                    50                    tanh   \n",
       "8                       3                    70                    relu   \n",
       "9                       7                   100                    tanh   \n",
       "\n",
       "   mean_test_score  std_test_score  mean_train_score  std_train_score  \n",
       "0              NaN             NaN               NaN              NaN  \n",
       "1              NaN             NaN               NaN              NaN  \n",
       "2              NaN             NaN               NaN              NaN  \n",
       "3              NaN             NaN               NaN              NaN  \n",
       "4              NaN             NaN               NaN              NaN  \n",
       "5              NaN             NaN               NaN              NaN  \n",
       "6              NaN             NaN               NaN              NaN  \n",
       "7              NaN             NaN               NaN              NaN  \n",
       "8              NaN             NaN               NaN              NaN  \n",
       "9              NaN             NaN               NaN              NaN  "
      ]
     },
     "execution_count": 14,
     "metadata": {},
     "output_type": "execute_result"
    }
   ],
   "source": [
    "resultados = pd.DataFrame(fitted_model.cv_results_)\n",
    "resultados.filter(regex = '(param.*|mean_t|std_t)')\\\n",
    "    .drop(columns = 'params')\\\n",
    "    .sort_values('mean_test_score', ascending = False)\\\n",
    "    .head(10)"
   ]
  },
  {
   "cell_type": "code",
   "execution_count": 15,
   "id": "39a06163",
   "metadata": {},
   "outputs": [
    {
     "name": "stdout",
     "output_type": "stream",
     "text": [
      "Best: nan using {'model__num_layers': 7, 'model__neuronas': 70, 'model__activation': 'tanh'}\n"
     ]
    }
   ],
   "source": [
    "print(\"Best: %f using %s\" % (fitted_model.best_score_, fitted_model.best_params_))"
   ]
  },
  {
   "cell_type": "code",
   "execution_count": null,
   "id": "71ddfeb8",
   "metadata": {},
   "outputs": [],
   "source": []
  }
 ],
 "metadata": {
  "kernelspec": {
   "display_name": "Python 3 (ipykernel)",
   "language": "python",
   "name": "python3"
  },
  "language_info": {
   "codemirror_mode": {
    "name": "ipython",
    "version": 3
   },
   "file_extension": ".py",
   "mimetype": "text/x-python",
   "name": "python",
   "nbconvert_exporter": "python",
   "pygments_lexer": "ipython3",
   "version": "3.9.12"
  }
 },
 "nbformat": 4,
 "nbformat_minor": 5
}

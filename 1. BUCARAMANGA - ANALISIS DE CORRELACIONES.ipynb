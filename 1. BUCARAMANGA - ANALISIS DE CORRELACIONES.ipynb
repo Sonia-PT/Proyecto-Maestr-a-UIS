{
 "cells": [
  {
   "cell_type": "markdown",
   "id": "f5f5d32c",
   "metadata": {},
   "source": [
    "# ANÁLISIS DE CORRELACIONES"
   ]
  },
  {
   "cell_type": "code",
   "execution_count": 1,
   "id": "ed7069b9",
   "metadata": {},
   "outputs": [],
   "source": [
    "import pandas as pd\n",
    "import numpy as np\n",
    "from pandas import read_csv\n",
    "from pandas import DataFrame\n",
    "from scipy.stats import pearsonr\n",
    "import seaborn as sns"
   ]
  },
  {
   "cell_type": "markdown",
   "id": "efa22254",
   "metadata": {},
   "source": [
    "## Bucaramanga"
   ]
  },
  {
   "cell_type": "code",
   "execution_count": 2,
   "id": "14f214eb",
   "metadata": {},
   "outputs": [
    {
     "data": {
      "text/plain": [
       "Municipio            0\n",
       "Año                  0\n",
       "Semana_Epi           0\n",
       "Casos_Dengue         0\n",
       "Prom_Dia_Preci       0\n",
       "Prom_Dia_Preci_1     0\n",
       "Prom_Dia_Preci_2     0\n",
       "Prom_Dia_Preci_3     0\n",
       "Prom_Dia_Preci_4     0\n",
       "Prom_Dia_Preci_5     0\n",
       "Prom_Dia_Preci_6     0\n",
       "Total_Preci_Sem      0\n",
       "Total_Preci_Sem_1    0\n",
       "Total_Preci_Sem_2    0\n",
       "Total_Preci_Sem_3    0\n",
       "Total_Preci_Sem_4    0\n",
       "Total_Preci_Sem_5    0\n",
       "Total_Preci_Sem_6    0\n",
       "dtype: int64"
      ]
     },
     "execution_count": 2,
     "metadata": {},
     "output_type": "execute_result"
    }
   ],
   "source": [
    "datos = read_csv('Bucaramanga_Lags.csv', encoding='latin-1', sep=\";\")\n",
    "datos.isnull().sum()"
   ]
  },
  {
   "cell_type": "code",
   "execution_count": 3,
   "id": "11162d00",
   "metadata": {},
   "outputs": [
    {
     "data": {
      "text/html": [
       "<div>\n",
       "<style scoped>\n",
       "    .dataframe tbody tr th:only-of-type {\n",
       "        vertical-align: middle;\n",
       "    }\n",
       "\n",
       "    .dataframe tbody tr th {\n",
       "        vertical-align: top;\n",
       "    }\n",
       "\n",
       "    .dataframe thead th {\n",
       "        text-align: right;\n",
       "    }\n",
       "</style>\n",
       "<table border=\"1\" class=\"dataframe\">\n",
       "  <thead>\n",
       "    <tr style=\"text-align: right;\">\n",
       "      <th></th>\n",
       "      <th>Municipio</th>\n",
       "      <th>Año</th>\n",
       "      <th>Semana_Epi</th>\n",
       "      <th>Casos_Dengue</th>\n",
       "      <th>Prom_Dia_Preci</th>\n",
       "      <th>Prom_Dia_Preci_1</th>\n",
       "      <th>Prom_Dia_Preci_2</th>\n",
       "      <th>Prom_Dia_Preci_3</th>\n",
       "      <th>Prom_Dia_Preci_4</th>\n",
       "      <th>Prom_Dia_Preci_5</th>\n",
       "      <th>Prom_Dia_Preci_6</th>\n",
       "      <th>Total_Preci_Sem</th>\n",
       "      <th>Total_Preci_Sem_1</th>\n",
       "      <th>Total_Preci_Sem_2</th>\n",
       "      <th>Total_Preci_Sem_3</th>\n",
       "      <th>Total_Preci_Sem_4</th>\n",
       "      <th>Total_Preci_Sem_5</th>\n",
       "      <th>Total_Preci_Sem_6</th>\n",
       "    </tr>\n",
       "  </thead>\n",
       "  <tbody>\n",
       "    <tr>\n",
       "      <th>0</th>\n",
       "      <td>Bucaramanga</td>\n",
       "      <td>2008</td>\n",
       "      <td>1</td>\n",
       "      <td>24</td>\n",
       "      <td>0.00</td>\n",
       "      <td>0.00</td>\n",
       "      <td>0.16</td>\n",
       "      <td>0.73</td>\n",
       "      <td>1.24</td>\n",
       "      <td>2.54</td>\n",
       "      <td>1.67</td>\n",
       "      <td>0.0</td>\n",
       "      <td>0.0</td>\n",
       "      <td>1.1</td>\n",
       "      <td>5.1</td>\n",
       "      <td>8.7</td>\n",
       "      <td>17.8</td>\n",
       "      <td>11.7</td>\n",
       "    </tr>\n",
       "    <tr>\n",
       "      <th>1</th>\n",
       "      <td>Bucaramanga</td>\n",
       "      <td>2008</td>\n",
       "      <td>2</td>\n",
       "      <td>36</td>\n",
       "      <td>3.93</td>\n",
       "      <td>0.00</td>\n",
       "      <td>0.00</td>\n",
       "      <td>0.16</td>\n",
       "      <td>0.73</td>\n",
       "      <td>1.24</td>\n",
       "      <td>2.54</td>\n",
       "      <td>27.5</td>\n",
       "      <td>0.0</td>\n",
       "      <td>0.0</td>\n",
       "      <td>1.1</td>\n",
       "      <td>5.1</td>\n",
       "      <td>8.7</td>\n",
       "      <td>17.8</td>\n",
       "    </tr>\n",
       "    <tr>\n",
       "      <th>2</th>\n",
       "      <td>Bucaramanga</td>\n",
       "      <td>2008</td>\n",
       "      <td>3</td>\n",
       "      <td>31</td>\n",
       "      <td>3.84</td>\n",
       "      <td>3.93</td>\n",
       "      <td>0.00</td>\n",
       "      <td>0.00</td>\n",
       "      <td>0.16</td>\n",
       "      <td>0.73</td>\n",
       "      <td>1.24</td>\n",
       "      <td>26.9</td>\n",
       "      <td>27.5</td>\n",
       "      <td>0.0</td>\n",
       "      <td>0.0</td>\n",
       "      <td>1.1</td>\n",
       "      <td>5.1</td>\n",
       "      <td>8.7</td>\n",
       "    </tr>\n",
       "  </tbody>\n",
       "</table>\n",
       "</div>"
      ],
      "text/plain": [
       "     Municipio   Año  Semana_Epi  Casos_Dengue  Prom_Dia_Preci  \\\n",
       "0  Bucaramanga  2008           1            24            0.00   \n",
       "1  Bucaramanga  2008           2            36            3.93   \n",
       "2  Bucaramanga  2008           3            31            3.84   \n",
       "\n",
       "   Prom_Dia_Preci_1  Prom_Dia_Preci_2  Prom_Dia_Preci_3  Prom_Dia_Preci_4  \\\n",
       "0              0.00              0.16              0.73              1.24   \n",
       "1              0.00              0.00              0.16              0.73   \n",
       "2              3.93              0.00              0.00              0.16   \n",
       "\n",
       "   Prom_Dia_Preci_5  Prom_Dia_Preci_6  Total_Preci_Sem  Total_Preci_Sem_1  \\\n",
       "0              2.54              1.67              0.0                0.0   \n",
       "1              1.24              2.54             27.5                0.0   \n",
       "2              0.73              1.24             26.9               27.5   \n",
       "\n",
       "   Total_Preci_Sem_2  Total_Preci_Sem_3  Total_Preci_Sem_4  Total_Preci_Sem_5  \\\n",
       "0                1.1                5.1                8.7               17.8   \n",
       "1                0.0                1.1                5.1                8.7   \n",
       "2                0.0                0.0                1.1                5.1   \n",
       "\n",
       "   Total_Preci_Sem_6  \n",
       "0               11.7  \n",
       "1               17.8  \n",
       "2                8.7  "
      ]
     },
     "execution_count": 3,
     "metadata": {},
     "output_type": "execute_result"
    }
   ],
   "source": [
    "datos.head(3)"
   ]
  },
  {
   "cell_type": "code",
   "execution_count": 4,
   "id": "5032e76a",
   "metadata": {},
   "outputs": [
    {
     "data": {
      "text/plain": [
       "Index(['Municipio', 'Año', 'Semana_Epi', 'Casos_Dengue', 'Prom_Dia_Preci',\n",
       "       'Prom_Dia_Preci_1', 'Prom_Dia_Preci_2', 'Prom_Dia_Preci_3',\n",
       "       'Prom_Dia_Preci_4', 'Prom_Dia_Preci_5', 'Prom_Dia_Preci_6',\n",
       "       'Total_Preci_Sem', 'Total_Preci_Sem_1', 'Total_Preci_Sem_2',\n",
       "       'Total_Preci_Sem_3', 'Total_Preci_Sem_4', 'Total_Preci_Sem_5',\n",
       "       'Total_Preci_Sem_6'],\n",
       "      dtype='object')"
      ]
     },
     "execution_count": 4,
     "metadata": {},
     "output_type": "execute_result"
    }
   ],
   "source": [
    "datos.columns"
   ]
  },
  {
   "cell_type": "code",
   "execution_count": 5,
   "id": "dadc93fa",
   "metadata": {},
   "outputs": [],
   "source": [
    "zero_feat=['Prom_Dia_Preci',\n",
    "       'Prom_Dia_Preci_1', 'Prom_Dia_Preci_2', 'Prom_Dia_Preci_3',\n",
    "       'Prom_Dia_Preci_4', 'Prom_Dia_Preci_5', 'Prom_Dia_Preci_6',\n",
    "       'Total_Preci_Sem', 'Total_Preci_Sem_1', 'Total_Preci_Sem_2',\n",
    "       'Total_Preci_Sem_3', 'Total_Preci_Sem_4', 'Total_Preci_Sem_5',\n",
    "       'Total_Preci_Sem_6']\n",
    "out_feat=['Casos_Dengue']"
   ]
  },
  {
   "cell_type": "code",
   "execution_count": 6,
   "id": "1b849189",
   "metadata": {
    "scrolled": false
   },
   "outputs": [
    {
     "name": "stdout",
     "output_type": "stream",
     "text": [
      "La Correlación de Prom_Dia_Preci Con Casos_Dengue es -0.007573260016980377\n",
      "------------------------------------------------------------\n",
      "La Correlación de Prom_Dia_Preci_1 Con Casos_Dengue es -0.003911081398292056\n",
      "------------------------------------------------------------\n",
      "La Correlación de Prom_Dia_Preci_2 Con Casos_Dengue es -0.0114265602354492\n",
      "------------------------------------------------------------\n",
      "La Correlación de Prom_Dia_Preci_3 Con Casos_Dengue es -0.022915670585544896\n",
      "------------------------------------------------------------\n",
      "La Correlación de Prom_Dia_Preci_4 Con Casos_Dengue es -0.022009764860107632\n",
      "------------------------------------------------------------\n",
      "La Correlación de Prom_Dia_Preci_5 Con Casos_Dengue es -0.03099431209781098\n",
      "------------------------------------------------------------\n",
      "La Correlación de Prom_Dia_Preci_6 Con Casos_Dengue es -0.03946896707422352\n",
      "------------------------------------------------------------\n",
      "La Correlación de Total_Preci_Sem Con Casos_Dengue es -0.007838602589025516\n",
      "------------------------------------------------------------\n",
      "La Correlación de Total_Preci_Sem_1 Con Casos_Dengue es -0.003865837814660756\n",
      "------------------------------------------------------------\n",
      "La Correlación de Total_Preci_Sem_2 Con Casos_Dengue es -0.011647961053593631\n",
      "------------------------------------------------------------\n",
      "La Correlación de Total_Preci_Sem_3 Con Casos_Dengue es -0.02304302148609877\n",
      "------------------------------------------------------------\n",
      "La Correlación de Total_Preci_Sem_4 Con Casos_Dengue es -0.02188477496430456\n",
      "------------------------------------------------------------\n",
      "La Correlación de Total_Preci_Sem_5 Con Casos_Dengue es -0.030912870102866537\n",
      "------------------------------------------------------------\n",
      "La Correlación de Total_Preci_Sem_6 Con Casos_Dengue es -0.03925306513538855\n",
      "------------------------------------------------------------\n"
     ]
    }
   ],
   "source": [
    "from scipy.stats import pearsonr\n",
    "for i in zero_feat:\n",
    "    for j in out_feat:   \n",
    "        corr, _ = pearsonr(datos[i], datos[j])\n",
    "        print('La Correlación de {0} Con {1} es {2}'.format(i,j,corr))\n",
    "    print('-'*60)"
   ]
  },
  {
   "cell_type": "code",
   "execution_count": 7,
   "id": "44f0e1c7",
   "metadata": {},
   "outputs": [
    {
     "name": "stdout",
     "output_type": "stream",
     "text": [
      "Casos_Dengue         1.000000\n",
      "Total_Preci_Sem_1   -0.003866\n",
      "Prom_Dia_Preci_1    -0.003911\n",
      "Prom_Dia_Preci      -0.007573\n",
      "Total_Preci_Sem     -0.007839\n",
      "Prom_Dia_Preci_2    -0.011427\n",
      "Total_Preci_Sem_2   -0.011648\n",
      "Total_Preci_Sem_4   -0.021885\n",
      "Prom_Dia_Preci_4    -0.022010\n",
      "Prom_Dia_Preci_3    -0.022916\n",
      "Total_Preci_Sem_3   -0.023043\n",
      "Total_Preci_Sem_5   -0.030913\n",
      "Prom_Dia_Preci_5    -0.030994\n",
      "Total_Preci_Sem_6   -0.039253\n",
      "Prom_Dia_Preci_6    -0.039469\n",
      "Semana_Epi          -0.074008\n",
      "Año                 -0.211355\n"
     ]
    }
   ],
   "source": [
    "# Find the correlations between the energy price and the rest of the features\n",
    "\n",
    "correlaciones = datos.corr(method='pearson')\n",
    "print(correlaciones['Casos_Dengue'].sort_values(ascending=False).to_string())"
   ]
  }
 ],
 "metadata": {
  "kernelspec": {
   "display_name": "Python 3 (ipykernel)",
   "language": "python",
   "name": "python3"
  },
  "language_info": {
   "codemirror_mode": {
    "name": "ipython",
    "version": 3
   },
   "file_extension": ".py",
   "mimetype": "text/x-python",
   "name": "python",
   "nbconvert_exporter": "python",
   "pygments_lexer": "ipython3",
   "version": "3.9.12"
  }
 },
 "nbformat": 4,
 "nbformat_minor": 5
}
